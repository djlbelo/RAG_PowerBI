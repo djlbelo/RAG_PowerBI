{
 "cells": [
  {
   "cell_type": "code",
   "id": "initial_id",
   "metadata": {
    "collapsed": true,
    "ExecuteTime": {
     "end_time": "2024-12-26T11:27:04.634814Z",
     "start_time": "2024-12-26T11:27:04.625494Z"
    }
   },
   "source": [
    "import requests\n",
    "import msal\n",
    "from powerbiclient import Report\n",
    "from powerbiclient.authentication import DeviceCodeLoginAuthentication"
   ],
   "outputs": [],
   "execution_count": 20
  },
  {
   "metadata": {
    "ExecuteTime": {
     "end_time": "2024-12-26T11:27:37.397574Z",
     "start_time": "2024-12-26T11:27:04.652024Z"
    }
   },
   "cell_type": "code",
   "source": [
    "# Auth object for demo\n",
    "auth = DeviceCodeLoginAuthentication()"
   ],
   "id": "200dec6143461f4",
   "outputs": [
    {
     "name": "stdout",
     "output_type": "stream",
     "text": [
      "Performing device flow authentication. Please follow the instructions below.\n",
      "To sign in, use a web browser to open the page https://microsoft.com/devicelogin and enter the code LTLMME4JG to authenticate.\n",
      "\n",
      "Device flow authentication successfully completed.\n",
      "You are now logged in .\n",
      "\n",
      "The result should be passed only to trusted code in your notebook.\n"
     ]
    }
   ],
   "execution_count": 21
  },
  {
   "metadata": {
    "ExecuteTime": {
     "end_time": "2024-12-26T11:27:38.621235Z",
     "start_time": "2024-12-26T11:27:37.436407Z"
    }
   },
   "cell_type": "code",
   "source": "report = Report(group_id='ceb0d1d0-6226-4aef-b245-fac7f89bb52e', report_id='025bdeaf-cf4e-40b9-a4c6-01446cbdff3f', auth=auth)",
   "id": "a6399d3c9cf34185",
   "outputs": [],
   "execution_count": 22
  },
  {
   "metadata": {
    "ExecuteTime": {
     "end_time": "2024-12-26T11:27:38.677429Z",
     "start_time": "2024-12-26T11:27:38.662083Z"
    }
   },
   "cell_type": "code",
   "source": [
    "def loaded_callback(event_details):\n",
    "    print('Report is loaded')\n",
    "\n",
    "report.on('loaded', loaded_callback)"
   ],
   "id": "30c04991cd04be4b",
   "outputs": [],
   "execution_count": 23
  },
  {
   "metadata": {
    "ExecuteTime": {
     "end_time": "2024-12-26T11:27:38.726712Z",
     "start_time": "2024-12-26T11:27:38.720431Z"
    }
   },
   "cell_type": "code",
   "source": [
    "def rendered_callback(event_details):\n",
    "    print('Report is rendered')\n",
    "\n",
    "report.on('rendered', rendered_callback)"
   ],
   "id": "a0f57281ed106990",
   "outputs": [],
   "execution_count": 24
  },
  {
   "metadata": {
    "ExecuteTime": {
     "end_time": "2024-12-26T11:27:38.790995Z",
     "start_time": "2024-12-26T11:27:38.768505Z"
    }
   },
   "cell_type": "code",
   "source": [
    "# Render report\n",
    "report"
   ],
   "id": "cfba7b2a5dd4ff05",
   "outputs": [
    {
     "data": {
      "text/plain": [
       "Report()"
      ],
      "application/vnd.jupyter.widget-view+json": {
       "version_major": 2,
       "version_minor": 0,
       "model_id": "08c801e19d9c4b05ae5eece1f0bf8b54"
      }
     },
     "metadata": {},
     "output_type": "display_data"
    }
   ],
   "execution_count": 25
  },
  {
   "metadata": {
    "ExecuteTime": {
     "end_time": "2024-12-26T11:27:38.828786Z",
     "start_time": "2024-12-26T11:27:38.819084Z"
    }
   },
   "cell_type": "code",
   "source": [
    "# Get pages\n",
    "def get_active_page(self):\n",
    "    \n",
    "    # Get list of pages\n",
    "    pages = self.get_pages()\n",
    "    active_page = {}\n",
    "    for page in pages:\n",
    "        \n",
    "        # Get active page\n",
    "        if page['isActive'] == True:\n",
    "            active_page = page\n",
    "            break\n",
    "    return active_page"
   ],
   "id": "f811d589e981aef8",
   "outputs": [],
   "execution_count": 26
  },
  {
   "metadata": {
    "jupyter": {
     "is_executing": true
    },
    "ExecuteTime": {
     "start_time": "2024-12-26T11:27:38.854975Z"
    }
   },
   "cell_type": "code",
   "source": [
    "active_page = get_active_page(report)\n",
    "active_page_name = active_page['name']\n",
    "visuals = report.visuals_on_page(active_page_name)\n",
    "#export visuals var in json format\n",
    "\n",
    "#give me only the keys 'title' and 'type' from the visuals\n",
    "#visuals = [{k: v for k, v in visual.items() if k in ['title', 'type']} for visual in visuals]\n",
    "visuals"
   ],
   "id": "19fe864c30091bb9",
   "outputs": [],
   "execution_count": null
  },
  {
   "metadata": {
    "ExecuteTime": {
     "end_time": "2024-12-26T11:25:39.772210Z",
     "start_time": "2024-12-26T11:25:38.747944Z"
    }
   },
   "cell_type": "code",
   "source": [
    "# Get visual whose type is 'clusteredColumnChart'\n",
    "visual = next(filter(lambda visual: visual['type'] == 'barChart', visuals))\n",
    "visual_name = visual['name']\n",
    "\n",
    "summarized_exported_data = report.export_visual_data(active_page_name,\n",
    "                                                 visual_name, rows=20)\n",
    "summarized_exported_data"
   ],
   "id": "7eb279ae7ccdacb6",
   "outputs": [
    {
     "name": "stdout",
     "output_type": "stream",
     "text": [
      "Sales,Product\r\n",
      "$44874921.10,Tailspin Heli - Max Pro Flight - 6ch\r\n",
      "$9530960.15,6CCP-A Helicopter\r\n",
      "$7728618.80,Piper Cub 4 Channel\r\n",
      "$5450602.05,P47 5 Channel\r\n",
      "$1605862.40,Tailspin Heli - Co-Ax Pro Mk I - 4ch\r\n",
      "$1455897.75,Tailspin Aviator Mk2-15\r\n",
      "$1453235.60,Tailspin Warbird BM32\r\n",
      "$1284627.85,3CAX-B Helicopter\r\n",
      "$1225510.80,Tailspin Aviator Mk2-12\r\n",
      "$949895.65,P51\r\n",
      "$947815.10,SkyTrainer\r\n",
      "$499292.15,P47 4 Channel\r\n",
      "$490673.60,Piper Cub 3 Channel\r\n",
      "$472215.30,Trainer - Tailspin GL-155\r\n",
      "$206465.15,4CAX-B Helicopter\r\n",
      "$183147.55,Trainer - Tailspin GL-120\r\n",
      "$173362.95,3CFP-I Helicopter\r\n",
      "$119821.15,Tailspin Aviator Mk2-11\r\n",
      "\n"
     ]
    }
   ],
   "execution_count": 19
  }
 ],
 "metadata": {
  "kernelspec": {
   "display_name": "Python 3",
   "language": "python",
   "name": "python3"
  },
  "language_info": {
   "codemirror_mode": {
    "name": "ipython",
    "version": 2
   },
   "file_extension": ".py",
   "mimetype": "text/x-python",
   "name": "python",
   "nbconvert_exporter": "python",
   "pygments_lexer": "ipython2",
   "version": "2.7.6"
  }
 },
 "nbformat": 4,
 "nbformat_minor": 5
}
