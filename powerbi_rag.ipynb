{
 "cells": [
  {
   "metadata": {
    "tags": [
     "parameters"
    ]
   },
   "cell_type": "code",
   "outputs": [],
   "execution_count": null,
   "source": [
    "#parameters\n",
    "report_id = None\n",
    "auth = None"
   ],
   "id": "fa47666b44b897f5"
  },
  {
   "cell_type": "code",
   "id": "initial_id",
   "metadata": {
    "collapsed": true,
    "ExecuteTime": {
     "end_time": "2024-12-30T10:45:15.578946Z",
     "start_time": "2024-12-30T10:45:15.574585Z"
    }
   },
   "source": [
    "import pandas as pd\n",
    "import requests\n",
    "import msal\n",
    "from io import StringIO\n",
    "from powerbiclient import Report, models\n",
    "from powerbiclient.authentication import DeviceCodeLoginAuthentication"
   ],
   "outputs": [],
   "execution_count": 50
  },
  {
   "metadata": {
    "ExecuteTime": {
     "end_time": "2024-12-30T10:53:44.418727Z",
     "start_time": "2024-12-30T10:53:43.435918Z"
    }
   },
   "cell_type": "code",
   "source": "report = Report(group_id='ceb0d1d0-6226-4aef-b245-fac7f89bb52e', report_id=report_id,  auth=auth)",
   "id": "a6399d3c9cf34185",
   "outputs": [],
   "execution_count": 59
  },
  {
   "metadata": {
    "ExecuteTime": {
     "end_time": "2024-12-30T10:45:28.145045Z",
     "start_time": "2024-12-30T10:45:28.137569Z"
    }
   },
   "cell_type": "code",
   "source": [
    "def loaded_callback(event_details):\n",
    "    print('Report is loaded')\n",
    "\n",
    "report.on('loaded', loaded_callback)"
   ],
   "id": "30c04991cd04be4b",
   "outputs": [],
   "execution_count": 53
  },
  {
   "metadata": {
    "ExecuteTime": {
     "end_time": "2024-12-30T10:45:28.160685Z",
     "start_time": "2024-12-30T10:45:28.156449Z"
    }
   },
   "cell_type": "code",
   "source": [
    "def rendered_callback(event_details):\n",
    "    print('Report is rendered')\n",
    "\n",
    "report.on('rendered', rendered_callback)"
   ],
   "id": "a0f57281ed106990",
   "outputs": [],
   "execution_count": 54
  },
  {
   "metadata": {
    "ExecuteTime": {
     "end_time": "2024-12-30T10:54:58.691244Z",
     "start_time": "2024-12-30T10:54:58.684719Z"
    }
   },
   "cell_type": "code",
   "source": [
    "# Render report\n",
    "report"
   ],
   "id": "cfba7b2a5dd4ff05",
   "outputs": [
    {
     "data": {
      "text/plain": [
       "Report()"
      ],
      "application/vnd.jupyter.widget-view+json": {
       "version_major": 2,
       "version_minor": 0,
       "model_id": "3aa82e405ed247428dc4bbf46c037314"
      }
     },
     "metadata": {},
     "output_type": "display_data"
    }
   ],
   "execution_count": 64
  },
  {
   "metadata": {
    "ExecuteTime": {
     "end_time": "2024-12-30T10:55:12.537327Z",
     "start_time": "2024-12-30T10:55:11.505601Z"
    }
   },
   "cell_type": "code",
   "source": [
    "#GET all pages\n",
    "pages = report.get_pages()\n",
    "print(pages)"
   ],
   "id": "160bcded702f50c7",
   "outputs": [
    {
     "name": "stdout",
     "output_type": "stream",
     "text": [
      "[{'name': 'ad7629625350de3c2f92', 'displayName': 'Customers', 'isActive': False, 'visibility': 0, 'defaultSize': {'type': 0, 'width': 1280, 'height': 720}, 'mobileSize': None, 'defaultDisplayOption': 0, 'background': None, 'wallpaper': None}, {'name': '2d7047f129c3f2484ff2', 'displayName': 'Main Offices', 'isActive': False, 'visibility': 0, 'defaultSize': {'type': 0, 'width': 1280, 'height': 720}, 'mobileSize': None, 'defaultDisplayOption': 0, 'background': None, 'wallpaper': None}, {'name': '38741aa4f17a9ebc9995', 'displayName': 'Product_Size_Weight_Color', 'isActive': False, 'visibility': 0, 'defaultSize': {'type': 0, 'width': 1280, 'height': 720}, 'mobileSize': None, 'defaultDisplayOption': 0, 'background': None, 'wallpaper': None}, {'name': '50c1abe0586dfc224c03', 'displayName': 'Sales_quantity_amount_monthCategory', 'isActive': False, 'visibility': 0, 'defaultSize': {'type': 0, 'width': 1280, 'height': 720}, 'mobileSize': None, 'defaultDisplayOption': 0, 'background': None, 'wallpaper': None}, {'name': 'e3e8edd15f80dbc7ad77', 'displayName': 'Sales_quantity_country', 'isActive': False, 'visibility': 0, 'defaultSize': {'type': 0, 'width': 1280, 'height': 720}, 'mobileSize': None, 'defaultDisplayOption': 0, 'background': None, 'wallpaper': None}, {'name': '30e7910a0c74d5ed9130', 'displayName': 'product_best_worst', 'isActive': False, 'visibility': 0, 'defaultSize': {'type': 0, 'width': 1280, 'height': 720}, 'mobileSize': None, 'defaultDisplayOption': 0, 'background': None, 'wallpaper': None}, {'name': '7c653908f5a8a0f72bb0', 'displayName': 'Dashboard1', 'isActive': False, 'visibility': 0, 'defaultSize': {'type': 0, 'width': 1280, 'height': 720}, 'mobileSize': None, 'defaultDisplayOption': 0, 'background': None, 'wallpaper': None}, {'name': 'b68cb1241c5ac12d55a6', 'displayName': 'Dashboard2', 'isActive': True, 'visibility': 0, 'defaultSize': {'type': 0, 'width': 1280, 'height': 720}, 'mobileSize': None, 'defaultDisplayOption': 0, 'background': {'color': '#FFFFFF', 'transparency': 41, 'hasImage': True}, 'wallpaper': {'color': '#FFFFFF', 'transparency': 0, 'hasImage': False}}]\n"
     ]
    }
   ],
   "execution_count": 65
  },
  {
   "metadata": {
    "ExecuteTime": {
     "end_time": "2024-12-30T10:45:28.268837900Z",
     "start_time": "2024-12-30T10:39:43.199437Z"
    }
   },
   "cell_type": "code",
   "source": [
    "# Define the types of visuals to export data for\n",
    "visual_types_to_export = ['barChart', 'lineChart', 'pieChart', 'clusteredColumnChart', 'table', 'tableEx', 'map', 'slicer', 'lineClusteredColumnComboChart', 'shapeMap', 'decompositionTreeVisual', 'card']\n",
    "\n",
    "# Iterate over the visuals and export data for the specified types\n",
    "for page in pages:\n",
    "    page_name = page['name']\n",
    "    report.set_active_page(page_name)\n",
    "    page_display_name = page['displayName']\n",
    "    visuals = report.visuals_on_page(page_name)\n",
    "    for visual in visuals:\n",
    "        if visual['type'] in visual_types_to_export:\n",
    "            try:\n",
    "                summarized_exported_data = report.export_visual_data(page_name, visual['name'], rows=20)\n",
    "                data = StringIO(summarized_exported_data)\n",
    "                # Load data into pandas DataFrame\n",
    "                df = pd.read_csv(data, sep=\",\")\n",
    "                # Store the DataFrame as a CSV file in the 'csv' folder\n",
    "                csv_file_path = f'csv/{visual[\"type\"]}_{visual[\"title\"].replace(\" \", \"_\")}_{visual['name']}_{page_display_name.replace(\" \", \"_\")}.csv'\n",
    "                df.to_csv(csv_file_path, index=False)\n",
    "                print(f\"Data for visual '{visual[\"title\"].replace(\" \", \"\")}' of type '{visual['type']}' exported successfully.\")\n",
    "            except Exception as e:\n",
    "                print(f\"Could not export data for visual '{visual[\"title\"].replace(\" \", \"\")}' of type '{visual['type']}': {e}\")\n",
    "    page['isActive'] = False"
   ],
   "id": "9091afc6a2873ac0",
   "outputs": [
    {
     "name": "stdout",
     "output_type": "stream",
     "text": [
      "Data for visual 'NumberofEnterprises#,NumberofFemaleCustomers#andNumberofCustomers#' of type 'clusteredColumnChart' exported successfully.\n",
      "Data for visual 'Table' of type 'tableEx' exported successfully.\n",
      "Data for visual 'CountofMainOfficeStateProvincebyMainOfficeStateProvinceandMainOfficeCountry' of type 'map' exported successfully.\n",
      "Data for visual 'Quantity#byWeight' of type 'pieChart' exported successfully.\n",
      "Data for visual 'Quantity#bySize' of type 'pieChart' exported successfully.\n",
      "Data for visual 'Quantity#byColor' of type 'pieChart' exported successfully.\n",
      "Data for visual 'Table' of type 'tableEx' exported successfully.\n",
      "Data for visual 'Quantity#byDSC_MONTHandCategoryName' of type 'clusteredColumnChart' exported successfully.\n",
      "Data for visual 'InvoiceSales€byDSC_MONTHandCategoryName' of type 'clusteredColumnChart' exported successfully.\n",
      "Data for visual 'Table' of type 'tableEx' exported successfully.\n",
      "Data for visual 'Quantity#byMainOfficeCountryandMainOfficeCountry' of type 'clusteredColumnChart' exported successfully.\n",
      "Data for visual 'InvoiceSales€byMainOfficeCountryandMainOfficeCountry' of type 'clusteredColumnChart' exported successfully.\n",
      "Data for visual 'Card' of type 'card' exported successfully.\n",
      "Data for visual 'Card' of type 'card' exported successfully.\n",
      "Data for visual 'Table' of type 'tableEx' exported successfully.\n",
      "Data for visual 'Table' of type 'tableEx' exported successfully.\n",
      "Data for visual 'Quantity#byMainOfficeCountryandMainOfficeCountry' of type 'clusteredColumnChart' exported successfully.\n",
      "Data for visual 'InvoiceSales€byMainOfficeCountryandMainOfficeCountry' of type 'clusteredColumnChart' exported successfully.\n",
      "Data for visual 'Quantity#byColor' of type 'pieChart' exported successfully.\n",
      "Data for visual 'CountofMainOfficeStateProvincebyMainOfficeStateProvinceandMainOfficeCountry' of type 'map' exported successfully.\n",
      "Data for visual 'NumberofEnterprises#,NumberofFemaleCustomers#andNumberofCustomers#' of type 'clusteredColumnChart' exported successfully.\n",
      "Data for visual 'InvoiceSales€andQuantity#byDSC_MONTHandCategoryName' of type 'lineClusteredColumnComboChart' exported successfully.\n",
      "Data for visual 'Quantity#andInvoiceSales€byDSC_MONTHandCategoryName' of type 'lineClusteredColumnComboChart' exported successfully.\n",
      "Data for visual 'Table' of type 'tableEx' exported successfully.\n",
      "Data for visual 'Card' of type 'card' exported successfully.\n",
      "Data for visual 'Card' of type 'card' exported successfully.\n",
      "Data for visual 'Quantity#byWeight' of type 'pieChart' exported successfully.\n",
      "Data for visual 'Quantity#bySize' of type 'pieChart' exported successfully.\n",
      "Data for visual 'Table' of type 'tableEx' exported successfully.\n"
     ]
    }
   ],
   "execution_count": 29
  }
 ],
 "metadata": {
  "kernelspec": {
   "display_name": "Python 3",
   "language": "python",
   "name": "python3"
  },
  "language_info": {
   "codemirror_mode": {
    "name": "ipython",
    "version": 2
   },
   "file_extension": ".py",
   "mimetype": "text/x-python",
   "name": "python",
   "nbconvert_exporter": "python",
   "pygments_lexer": "ipython2",
   "version": "2.7.6"
  }
 },
 "nbformat": 4,
 "nbformat_minor": 5
}
