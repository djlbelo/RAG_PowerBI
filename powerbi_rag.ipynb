{
 "cells": [
  {
   "cell_type": "code",
   "id": "initial_id",
   "metadata": {
    "collapsed": true,
    "ExecuteTime": {
     "end_time": "2024-12-26T12:33:35.802826Z",
     "start_time": "2024-12-26T12:33:35.795976Z"
    }
   },
   "source": [
    "import pandas as pd\n",
    "import requests\n",
    "import msal\n",
    "from io import StringIO\n",
    "from powerbiclient import Report\n",
    "from powerbiclient.authentication import DeviceCodeLoginAuthentication"
   ],
   "outputs": [],
   "execution_count": 30
  },
  {
   "metadata": {
    "ExecuteTime": {
     "end_time": "2024-12-26T12:34:12.787771Z",
     "start_time": "2024-12-26T12:33:35.827521Z"
    }
   },
   "cell_type": "code",
   "source": [
    "# Auth object for demo\n",
    "auth = DeviceCodeLoginAuthentication()"
   ],
   "id": "200dec6143461f4",
   "outputs": [
    {
     "name": "stdout",
     "output_type": "stream",
     "text": [
      "Performing device flow authentication. Please follow the instructions below.\n",
      "To sign in, use a web browser to open the page https://microsoft.com/devicelogin and enter the code LKGPUGUZ8 to authenticate.\n",
      "\n",
      "Device flow authentication successfully completed.\n",
      "You are now logged in .\n",
      "\n",
      "The result should be passed only to trusted code in your notebook.\n"
     ]
    }
   ],
   "execution_count": 31
  },
  {
   "metadata": {
    "ExecuteTime": {
     "end_time": "2024-12-26T12:34:13.584247Z",
     "start_time": "2024-12-26T12:34:12.812524Z"
    }
   },
   "cell_type": "code",
   "source": "report = Report(group_id='ceb0d1d0-6226-4aef-b245-fac7f89bb52e', report_id='dc20da54-0dde-4b7e-aa9c-4435bb7c71be', auth=auth)",
   "id": "a6399d3c9cf34185",
   "outputs": [],
   "execution_count": 32
  },
  {
   "metadata": {
    "ExecuteTime": {
     "end_time": "2024-12-26T12:34:13.601932Z",
     "start_time": "2024-12-26T12:34:13.596392Z"
    }
   },
   "cell_type": "code",
   "source": [
    "def loaded_callback(event_details):\n",
    "    print('Report is loaded')\n",
    "\n",
    "report.on('loaded', loaded_callback)"
   ],
   "id": "30c04991cd04be4b",
   "outputs": [],
   "execution_count": 33
  },
  {
   "metadata": {
    "ExecuteTime": {
     "end_time": "2024-12-26T12:34:13.620846Z",
     "start_time": "2024-12-26T12:34:13.615932Z"
    }
   },
   "cell_type": "code",
   "source": [
    "def rendered_callback(event_details):\n",
    "    print('Report is rendered')\n",
    "\n",
    "report.on('rendered', rendered_callback)"
   ],
   "id": "a0f57281ed106990",
   "outputs": [],
   "execution_count": 34
  },
  {
   "metadata": {
    "ExecuteTime": {
     "end_time": "2024-12-26T12:34:13.642156Z",
     "start_time": "2024-12-26T12:34:13.634876Z"
    }
   },
   "cell_type": "code",
   "source": [
    "# Render report\n",
    "report"
   ],
   "id": "cfba7b2a5dd4ff05",
   "outputs": [
    {
     "data": {
      "text/plain": [
       "Report()"
      ],
      "application/vnd.jupyter.widget-view+json": {
       "version_major": 2,
       "version_minor": 0,
       "model_id": "9f5b856cccc041eeabd8647ef8be2ba1"
      }
     },
     "metadata": {},
     "output_type": "display_data"
    }
   ],
   "execution_count": 35
  },
  {
   "metadata": {
    "ExecuteTime": {
     "end_time": "2024-12-26T12:34:13.665602Z",
     "start_time": "2024-12-26T12:34:13.660401Z"
    }
   },
   "cell_type": "code",
   "source": [
    "# Get pages\n",
    "def get_active_page(self):\n",
    "    # Get list of pages\n",
    "    pages = self.get_pages()\n",
    "    active_page = {}\n",
    "    for page in pages:\n",
    "        \n",
    "        # Get active page\n",
    "        if page['isActive'] == True:\n",
    "            active_page = page\n",
    "            break\n",
    "    return active_page"
   ],
   "id": "f811d589e981aef8",
   "outputs": [],
   "execution_count": 36
  },
  {
   "metadata": {
    "jupyter": {
     "is_executing": true
    },
    "ExecuteTime": {
     "start_time": "2024-12-26T12:34:13.681222Z"
    }
   },
   "cell_type": "code",
   "source": [
    "active_page = get_active_page(report)\n",
    "active_page_name = active_page['name']\n",
    "visuals = report.visuals_on_page(active_page_name)\n",
    "#export visuals var in json format\n",
    "\n",
    "#keys 'title' and 'type' from the visuals\n",
    "#visuals = [{k: v for k, v in visual.items() if k in ['title', 'type']} for visual in visuals]\n",
    "visuals"
   ],
   "id": "19fe864c30091bb9",
   "outputs": [],
   "execution_count": null
  },
  {
   "metadata": {},
   "cell_type": "code",
   "outputs": [],
   "execution_count": null,
   "source": [
    "# Define the types of visuals to export data for\n",
    "visual_types_to_export = ['barChart', 'lineChart', 'pieChart']\n",
    "\n",
    "# Iterate over the visuals and export data for the specified types\n",
    "for visual in visuals:\n",
    "    if visual['type'] in visual_types_to_export:\n",
    "        try:\n",
    "            summarized_exported_data = report.export_visual_data(active_page_name,visual['name'], rows=20)\n",
    "            data = StringIO(summarized_exported_data)\n",
    "            # Load data into pandas DataFrame\n",
    "            df = pd.read_csv(data, sep=\",\")\n",
    "            # Store the DataFrame as a CSV file in the 'csv' folder\n",
    "            csv_file_path = f'csv/{visual[\"type\"]}_{report._model_name}.csv'\n",
    "            df.to_csv(csv_file_path, index=False)\n",
    "            print(f\"Data for visual '{report._model_name}' of type '{visual['type']}' exported successfully.\")\n",
    "        except Exception as e:\n",
    "            print(f\"Could not export data for visual '{report._model_name}' of type '{visual['type']}': {e}\")"
   ],
   "id": "9091afc6a2873ac0"
  }
 ],
 "metadata": {
  "kernelspec": {
   "display_name": "Python 3",
   "language": "python",
   "name": "python3"
  },
  "language_info": {
   "codemirror_mode": {
    "name": "ipython",
    "version": 2
   },
   "file_extension": ".py",
   "mimetype": "text/x-python",
   "name": "python",
   "nbconvert_exporter": "python",
   "pygments_lexer": "ipython2",
   "version": "2.7.6"
  }
 },
 "nbformat": 4,
 "nbformat_minor": 5
}
