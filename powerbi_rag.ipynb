{
 "cells": [
  {
   "cell_type": "code",
   "id": "initial_id",
   "metadata": {
    "collapsed": true,
    "ExecuteTime": {
     "end_time": "2024-12-27T10:23:16.468350Z",
     "start_time": "2024-12-27T10:23:16.459569Z"
    }
   },
   "source": [
    "import pandas as pd\n",
    "import requests\n",
    "import msal\n",
    "from io import StringIO\n",
    "from powerbiclient import Report, models\n",
    "from powerbiclient.authentication import DeviceCodeLoginAuthentication"
   ],
   "outputs": [],
   "execution_count": 22
  },
  {
   "metadata": {
    "ExecuteTime": {
     "end_time": "2024-12-27T10:46:55.030110Z",
     "start_time": "2024-12-27T10:46:38.001236Z"
    }
   },
   "cell_type": "code",
   "source": [
    "# Auth object for demo\n",
    "auth = DeviceCodeLoginAuthentication()"
   ],
   "id": "200dec6143461f4",
   "outputs": [
    {
     "name": "stdout",
     "output_type": "stream",
     "text": [
      "Performing device flow authentication. Please follow the instructions below.\n",
      "To sign in, use a web browser to open the page https://microsoft.com/devicelogin and enter the code LBLW25HBJ to authenticate.\n",
      "\n",
      "Device flow authentication successfully completed.\n",
      "You are now logged in .\n",
      "\n",
      "The result should be passed only to trusted code in your notebook.\n"
     ]
    }
   ],
   "execution_count": 39
  },
  {
   "metadata": {
    "ExecuteTime": {
     "end_time": "2024-12-27T10:46:59.650111Z",
     "start_time": "2024-12-27T10:46:58.040512Z"
    }
   },
   "cell_type": "code",
   "source": "report = Report(group_id='ceb0d1d0-6226-4aef-b245-fac7f89bb52e', report_id='dc20da54-0dde-4b7e-aa9c-4435bb7c71be', auth=auth)",
   "id": "a6399d3c9cf34185",
   "outputs": [],
   "execution_count": 40
  },
  {
   "metadata": {
    "ExecuteTime": {
     "end_time": "2024-12-27T10:21:52.365458Z",
     "start_time": "2024-12-27T10:21:52.360459Z"
    }
   },
   "cell_type": "code",
   "source": [
    "def loaded_callback(event_details):\n",
    "    print('Report is loaded')\n",
    "\n",
    "#report.on('loaded', loaded_callback)"
   ],
   "id": "30c04991cd04be4b",
   "outputs": [],
   "execution_count": 15
  },
  {
   "metadata": {
    "ExecuteTime": {
     "end_time": "2024-12-27T10:21:52.381116Z",
     "start_time": "2024-12-27T10:21:52.377616Z"
    }
   },
   "cell_type": "code",
   "source": [
    "def rendered_callback(event_details):\n",
    "    print('Report is rendered')\n",
    "\n",
    "#report.on('rendered', rendered_callback)"
   ],
   "id": "a0f57281ed106990",
   "outputs": [],
   "execution_count": 16
  },
  {
   "metadata": {
    "ExecuteTime": {
     "end_time": "2024-12-27T10:47:02.513488Z",
     "start_time": "2024-12-27T10:47:02.505023Z"
    }
   },
   "cell_type": "code",
   "source": [
    "# Render report\n",
    "report"
   ],
   "id": "cfba7b2a5dd4ff05",
   "outputs": [
    {
     "data": {
      "text/plain": [
       "Report()"
      ],
      "application/vnd.jupyter.widget-view+json": {
       "version_major": 2,
       "version_minor": 0,
       "model_id": "9a3790e2ac724efa8da8b0ecb5c0f75e"
      }
     },
     "metadata": {},
     "output_type": "display_data"
    }
   ],
   "execution_count": 41
  },
  {
   "metadata": {
    "ExecuteTime": {
     "end_time": "2024-12-27T10:47:17.433899Z",
     "start_time": "2024-12-27T10:47:17.425397Z"
    }
   },
   "cell_type": "code",
   "source": [
    "# Get pages\n",
    "def get_active_page(self: Report):\n",
    "    # Get list of pages\n",
    "    pages = self.get_pages()\n",
    "    print(pages)\n",
    "    active_page = {}\n",
    "    for page in pages:\n",
    "        # Get active page\n",
    "        if page['isActive'] == True:\n",
    "            active_page = page\n",
    "            break\n",
    "    return active_page"
   ],
   "id": "f811d589e981aef8",
   "outputs": [],
   "execution_count": 42
  },
  {
   "metadata": {
    "ExecuteTime": {
     "end_time": "2024-12-27T10:47:20.519512Z",
     "start_time": "2024-12-27T10:47:19.463190Z"
    }
   },
   "cell_type": "code",
   "source": [
    "active_page = get_active_page(report)\n",
    "print(active_page)\n",
    "\n",
    "#TO-DO: export and report all pages"
   ],
   "id": "e8fd23d12b39be4e",
   "outputs": [
    {
     "name": "stdout",
     "output_type": "stream",
     "text": [
      "[{'name': 'ReportSectiondecccb8482fa6cf4f797', 'displayName': 'Regional Sales Analysis', 'isActive': True, 'visibility': 0, 'defaultSize': {'type': 0, 'width': 1280, 'height': 720}, 'mobileSize': None, 'defaultDisplayOption': 0, 'background': {'color': '#FFFFFF', 'transparency': 0, 'hasImage': True}, 'wallpaper': {'color': '#f1f4f6', 'transparency': 0, 'hasImage': False}}, {'name': 'ReportSection98ceb79bc32f027d9868', 'displayName': 'Page tooltip', 'isActive': False, 'visibility': 1, 'defaultSize': {'width': 320, 'height': 240}, 'mobileSize': None, 'defaultDisplayOption': 2, 'background': None, 'wallpaper': None}]\n",
      "{'name': 'ReportSectiondecccb8482fa6cf4f797', 'displayName': 'Regional Sales Analysis', 'isActive': True, 'visibility': 0, 'defaultSize': {'type': 0, 'width': 1280, 'height': 720}, 'mobileSize': None, 'defaultDisplayOption': 0, 'background': {'color': '#FFFFFF', 'transparency': 0, 'hasImage': True}, 'wallpaper': {'color': '#f1f4f6', 'transparency': 0, 'hasImage': False}}\n"
     ]
    }
   ],
   "execution_count": 43
  },
  {
   "metadata": {
    "ExecuteTime": {
     "end_time": "2024-12-27T10:47:22.473427Z",
     "start_time": "2024-12-27T10:47:22.467039Z"
    }
   },
   "cell_type": "code",
   "source": [
    "active_page_name = active_page['name']\n",
    "print(active_page_name)"
   ],
   "id": "4edebb373f61b766",
   "outputs": [
    {
     "name": "stdout",
     "output_type": "stream",
     "text": [
      "ReportSectiondecccb8482fa6cf4f797\n"
     ]
    }
   ],
   "execution_count": 44
  },
  {
   "metadata": {
    "ExecuteTime": {
     "end_time": "2024-12-27T10:47:25.031130Z",
     "start_time": "2024-12-27T10:47:23.988855Z"
    }
   },
   "cell_type": "code",
   "source": [
    "visuals = report.visuals_on_page(active_page_name)\n",
    "visuals\n",
    "#export visuals var in json format\n",
    "\n",
    "#keys 'title' and 'type' from the visuals\n",
    "#visuals = [{k: v for k, v in visual.items() if k in ['title', 'type']} for visual in visuals]"
   ],
   "id": "19fe864c30091bb9",
   "outputs": [
    {
     "data": {
      "text/plain": [
       "[{'name': 'e16ff33d4f17123d49e6',\n",
       "  'title': 'Card',\n",
       "  'type': 'card',\n",
       "  'layout': {'x': 28.206686930091188,\n",
       "   'y': 130.33434650455928,\n",
       "   'z': 0,\n",
       "   'width': 201.33738601823708,\n",
       "   'height': 107.96352583586626,\n",
       "   'displayState': {'mode': 0}}},\n",
       " {'name': '5717ed329716f2e5cd0a',\n",
       "  'title': 'Card',\n",
       "  'type': 'card',\n",
       "  'layout': {'x': 28.206686930091188,\n",
       "   'y': 257.75075987841944,\n",
       "   'z': 1000,\n",
       "   'width': 201.33738601823708,\n",
       "   'height': 110.88145896656536,\n",
       "   'displayState': {'mode': 0}}},\n",
       " {'name': '0557d722239ec7861233',\n",
       "  'title': 'Sales Decomposition',\n",
       "  'type': 'decompositionTreeVisual',\n",
       "  'layout': {'x': 488.3171806167401,\n",
       "   'y': 170.2907488986784,\n",
       "   'z': 14000,\n",
       "   'width': 763.4889867841409,\n",
       "   'height': 524.4052863436124,\n",
       "   'displayState': {'mode': 0}}},\n",
       " {'name': 'b1e05f643b3140d6e9fa',\n",
       "  'title': 'Card',\n",
       "  'type': 'card',\n",
       "  'layout': {'x': 256.7781155015198,\n",
       "   'y': 130.33434650455928,\n",
       "   'z': 2000,\n",
       "   'width': 210.09118541033436,\n",
       "   'height': 107.96352583586626,\n",
       "   'displayState': {'mode': 0}}},\n",
       " {'name': '9cfd69ebc292026de70f',\n",
       "  'title': 'Card',\n",
       "  'type': 'card',\n",
       "  'layout': {'x': 256.7781155015198,\n",
       "   'y': 257.75075987841944,\n",
       "   'z': 3000,\n",
       "   'width': 209.11854103343467,\n",
       "   'height': 110.88145896656536,\n",
       "   'displayState': {'mode': 0}}},\n",
       " {'name': '875b419d4b78e8d8a80b',\n",
       "  'title': 'Sales by Product',\n",
       "  'type': 'barChart',\n",
       "  'layout': {'x': 28.206686930091188,\n",
       "   'y': 393.9209726443769,\n",
       "   'z': 4000,\n",
       "   'width': 430.8814589665654,\n",
       "   'height': 300.5471124620061,\n",
       "   'displayState': {'mode': 0}}},\n",
       " {'name': 'be14eb12b26ab25817a1',\n",
       "  'title': 'Slicer',\n",
       "  'type': 'slicer',\n",
       "  'layout': {'x': 488.7912087912088,\n",
       "   'y': 7.032967032967033,\n",
       "   'z': 5000,\n",
       "   'width': 130.1098901098901,\n",
       "   'height': 64.17582417582418,\n",
       "   'displayState': {'mode': 0}}},\n",
       " {'name': 'b6c2fdd86300f1a96b45',\n",
       "  'title': 'Slicer',\n",
       "  'type': 'slicer',\n",
       "  'layout': {'x': 816.7032967032967,\n",
       "   'y': 7,\n",
       "   'z': 6000,\n",
       "   'width': 200.43956043956044,\n",
       "   'height': 64.17582417582418,\n",
       "   'displayState': {'mode': 0}}},\n",
       " {'name': 'e554ad36842132b7cd13',\n",
       "  'title': 'Button',\n",
       "  'type': 'actionButton',\n",
       "  'layout': {'x': 499.5947136563877,\n",
       "   'y': 133.07488986784142,\n",
       "   'z': 7000,\n",
       "   'width': 166.90748898678413,\n",
       "   'height': 39.47136563876652,\n",
       "   'displayState': {'mode': 0}}},\n",
       " {'name': 'dd57c944fda33dea805b',\n",
       "  'title': 'Button',\n",
       "  'type': 'actionButton',\n",
       "  'layout': {'x': 666.5022026431718,\n",
       "   'y': 131,\n",
       "   'z': 8000,\n",
       "   'width': 166.90748898678413,\n",
       "   'height': 39.47136563876652,\n",
       "   'displayState': {'mode': 0}}},\n",
       " {'name': 'b309a9ec291b7939e3a3',\n",
       "  'title': 'Button',\n",
       "  'type': 'actionButton',\n",
       "  'layout': {'x': 499.5947136563877,\n",
       "   'y': 130.8193832599119,\n",
       "   'z': 9000,\n",
       "   'width': 166.90748898678413,\n",
       "   'height': 39.47136563876652,\n",
       "   'displayState': {'mode': 1}}},\n",
       " {'name': 'fd2f78ec17e7d512117f',\n",
       "  'title': 'Button',\n",
       "  'type': 'actionButton',\n",
       "  'layout': {'x': 666.5022026431718,\n",
       "   'y': 133.07488986784142,\n",
       "   'z': 10000,\n",
       "   'width': 166.90748898678413,\n",
       "   'height': 39.47136563876652,\n",
       "   'displayState': {'mode': 1}}},\n",
       " {'name': '3d17b22cbd06520fcc1c',\n",
       "  'title': 'Hover on a state for sales details',\n",
       "  'type': 'shapeMap',\n",
       "  'layout': {'x': 499.5947136563877,\n",
       "   'y': 172.54625550660793,\n",
       "   'z': 13000,\n",
       "   'width': 726.2731277533039,\n",
       "   'height': 505.23348017621146,\n",
       "   'displayState': {'mode': 1}}},\n",
       " {'name': '61caabacdf808a8a12a2',\n",
       "  'title': 'Button',\n",
       "  'type': 'actionButton',\n",
       "  'layout': {'x': 833.409691629956,\n",
       "   'y': 130.8193832599119,\n",
       "   'z': 11000,\n",
       "   'width': 166.90748898678413,\n",
       "   'height': 39.47136563876652,\n",
       "   'displayState': {'mode': 0}}},\n",
       " {'name': '772dba08bdf2631d442c',\n",
       "  'title': 'Button',\n",
       "  'type': 'actionButton',\n",
       "  'layout': {'x': 833.409691629956,\n",
       "   'y': 133.07488986784142,\n",
       "   'z': 12000,\n",
       "   'width': 166.90748898678413,\n",
       "   'height': 39.47136563876652,\n",
       "   'displayState': {'mode': 1}}},\n",
       " {'name': '1aa548e0cfb70c5c5b3a',\n",
       "  'title': 'Shape',\n",
       "  'type': 'basicShape',\n",
       "  'layout': {'x': 0,\n",
       "   'y': 207.5066079295154,\n",
       "   'z': 17000,\n",
       "   'width': 766.8722466960353,\n",
       "   'height': 55.25991189427313,\n",
       "   'displayState': {'mode': 0}}},\n",
       " {'name': 'e06ea4fff00dc1f64a7d',\n",
       "  'title': 'Commentary',\n",
       "  'type': 'textbox',\n",
       "  'layout': {'x': 10.149779735682841,\n",
       "   'y': 239.08370044052865,\n",
       "   'z': 16000,\n",
       "   'width': 745.4449339207049,\n",
       "   'height': 286.44933920704847,\n",
       "   'displayState': {'mode': 0}}},\n",
       " {'name': 'bf36eb378296825d9db9',\n",
       "  'title': 'Sales and Avg Price by Month',\n",
       "  'type': 'lineClusteredColumnComboChart',\n",
       "  'layout': {'x': 10.149779735682841,\n",
       "   'y': 0,\n",
       "   'z': 8000,\n",
       "   'width': 745.4449339207049,\n",
       "   'height': 234.5726872246696,\n",
       "   'displayState': {'mode': 0}}},\n",
       " {'name': '57681b16600b41bcccd9',\n",
       "  'title': 'Slicer',\n",
       "  'type': 'slicer',\n",
       "  'layout': {'x': 618.901098901099,\n",
       "   'y': 7,\n",
       "   'z': 16000,\n",
       "   'width': 200.43956043956044,\n",
       "   'height': 64.17582417582418,\n",
       "   'displayState': {'mode': 0}}}]"
      ]
     },
     "execution_count": 45,
     "metadata": {},
     "output_type": "execute_result"
    }
   ],
   "execution_count": 45
  },
  {
   "metadata": {
    "ExecuteTime": {
     "end_time": "2024-12-27T11:13:52.768128Z",
     "start_time": "2024-12-27T11:13:40.762121Z"
    }
   },
   "cell_type": "code",
   "source": [
    "# Define the types of visuals to export data for\n",
    "visual_types_to_export = ['barChart', 'lineChart', 'pieChart', 'clusteredColumnChart', 'table', 'tableEx', 'map', 'slicer', 'lineClusteredColumnComboChart', 'shapeMap', 'decompositionTreeVisual', 'card']\n",
    "\n",
    "# Iterate over the visuals and export data for the specified types\n",
    "for visual in visuals:\n",
    "    if visual['type'] in visual_types_to_export:\n",
    "        try:\n",
    "            summarized_exported_data = report.export_visual_data(active_page_name,visual['name'], rows=20)\n",
    "            data = StringIO(summarized_exported_data)\n",
    "            # Load data into pandas DataFrame\n",
    "            df = pd.read_csv(data, sep=\",\")\n",
    "            # Store the DataFrame as a CSV file in the 'csv' folder\n",
    "            csv_file_path = f'csv/{visual[\"type\"]}_{visual[\"title\"].replace(\" \", \"_\")}_{active_page['displayName'].replace(\" \", \"_\")}.csv'\n",
    "            df.to_csv(csv_file_path, index=False)\n",
    "            print(f\"Data for visual '{visual[\"title\"].replace(\" \", \"\")}' of type '{visual['type']}' exported successfully.\")\n",
    "        except Exception as e:\n",
    "            print(f\"Could not export data for visual '{visual[\"title\"].replace(\" \", \"\")}' of type '{visual['type']}': {e}\")"
   ],
   "id": "9091afc6a2873ac0",
   "outputs": [
    {
     "name": "stdout",
     "output_type": "stream",
     "text": [
      "Data for visual 'Card' of type 'card' exported successfully.\n",
      "Data for visual 'Card' of type 'card' exported successfully.\n",
      "Data for visual 'SalesDecomposition' of type 'decompositionTreeVisual' exported successfully.\n",
      "Data for visual 'Card' of type 'card' exported successfully.\n",
      "Data for visual 'Card' of type 'card' exported successfully.\n",
      "Data for visual 'SalesbyProduct' of type 'barChart' exported successfully.\n",
      "Data for visual 'Slicer' of type 'slicer' exported successfully.\n",
      "Data for visual 'Slicer' of type 'slicer' exported successfully.\n",
      "Data for visual 'Hoveronastateforsalesdetails' of type 'shapeMap' exported successfully.\n",
      "Data for visual 'SalesandAvgPricebyMonth' of type 'lineClusteredColumnComboChart' exported successfully.\n",
      "Data for visual 'Slicer' of type 'slicer' exported successfully.\n"
     ]
    }
   ],
   "execution_count": 47
  }
 ],
 "metadata": {
  "kernelspec": {
   "display_name": "Python 3",
   "language": "python",
   "name": "python3"
  },
  "language_info": {
   "codemirror_mode": {
    "name": "ipython",
    "version": 2
   },
   "file_extension": ".py",
   "mimetype": "text/x-python",
   "name": "python",
   "nbconvert_exporter": "python",
   "pygments_lexer": "ipython2",
   "version": "2.7.6"
  }
 },
 "nbformat": 4,
 "nbformat_minor": 5
}
