{
 "cells": [
  {
   "cell_type": "code",
   "id": "initial_id",
   "metadata": {
    "collapsed": true,
    "ExecuteTime": {
     "end_time": "2025-01-09T09:21:55.417540Z",
     "start_time": "2025-01-09T09:21:55.412488Z"
    }
   },
   "source": [
    "import pandas as pd\n",
    "import time\n",
    "import requests\n",
    "import msal\n",
    "from io import StringIO\n",
    "from powerbiclient import Report, models\n",
    "from powerbiclient.authentication import DeviceCodeLoginAuthentication"
   ],
   "outputs": [],
   "execution_count": 20
  },
  {
   "metadata": {},
   "cell_type": "code",
   "outputs": [],
   "execution_count": null,
   "source": [
    "# Variables\n",
    "\n",
    "AUTHORITY_URL = f'https://login.microsoftonline.com/organizations'\n",
    "CLIENT_ID = '04bb970d-3099-4845-b81d-92e23362f261'\n",
    "SCOPE = [\"https://api.fabric.microsoft.com/Dataset.ReadWrite.All\",\n",
    "    \"https://api.fabric.microsoft.com/Dashboard.ReadWrite.All\",\n",
    "    \"https://api.fabric.microsoft.com/Item.ReadWrite.All\",\n",
    "    \"https://api.fabric.microsoft.com/Workspace.ReadWrite.All\",\n",
    "    \"https://api.fabric.microsoft.com/Report.ReadWrite.All\",\n",
    "    \"https://api.fabric.microsoft.com/Content.Create\"]\n",
    "GROUP_ID = 'ceb0d1d0-6226-4aef-b245-fac7f89bb52e'\n",
    "POWER_BI_API_URL = f'https://api.powerbi.com/v1.0/myorg/'\n",
    "TENANT_ID = '057866cb-0e0f-4818-bd4a-0255845df359'"
   ],
   "id": "3308013946e93a64"
  },
  {
   "metadata": {},
   "cell_type": "code",
   "outputs": [],
   "execution_count": null,
   "source": [
    "# Authentication\n",
    "\n",
    "# Variables\n",
    "access_token = ''\n",
    "\n",
    "# Authenticate and get access token\n",
    "if not access_token:\n",
    "    app = msal.PublicClientApplication(\n",
    "        CLIENT_ID,\n",
    "        authority=AUTHORITY_URL\n",
    "    )\n",
    "    result = app.acquire_token_interactive(scopes=SCOPE)\n",
    "    if 'access_token' in result:\n",
    "        g = result['access_token']\n",
    "        print('Access token obtained successfully by interactive login')\n",
    "    else:\n",
    "        print(f'Error obtaining access token: {result}, trying username and password')\n",
    "        app = msal.PublicClientApplication(CLIENT_ID, authority=TENANT_ID)\n",
    "        username = input('Enter username: ')\n",
    "        password = input('Enter password: ')\n",
    "        result = app.acquire_token_by_username_password(username, password, SCOPE)\n",
    "        if 'access_token' in result:\n",
    "            access_token = result['access_token']\n",
    "            print('Access token obtained successfully by username and password')\n",
    "        else:\n",
    "            print(f'Error obtaining access token: {result}')\n",
    "\n",
    "# Headers\n",
    "headers = {'Authorization': f'Bearer {access_token}'}\n"
   ],
   "id": "79f83586768fbb43"
  },
  {
   "metadata": {
    "ExecuteTime": {
     "end_time": "2025-01-09T09:22:12.502631Z",
     "start_time": "2025-01-09T09:21:55.438547Z"
    }
   },
   "cell_type": "code",
   "source": [
    "auth = DeviceCodeLoginAuthentication()\n",
    "#parameters\n",
    "report_id = '025bdeaf-cf4e-40b9-a4c6-01446cbdff3f'\n",
    "report = Report(group_id='ceb0d1d0-6226-4aef-b245-fac7f89bb52e', report_id=report_id,  auth=auth)"
   ],
   "id": "a6399d3c9cf34185",
   "outputs": [
    {
     "name": "stdout",
     "output_type": "stream",
     "text": [
      "Performing device flow authentication. Please follow the instructions below.\n",
      "To sign in, use a web browser to open the page https://microsoft.com/devicelogin and enter the code DCXPLTW55 to authenticate.\n",
      "\n",
      "Device flow authentication successfully completed.\n",
      "You are now logged in .\n",
      "\n",
      "The result should be passed only to trusted code in your notebook.\n"
     ]
    }
   ],
   "execution_count": 21
  },
  {
   "metadata": {
    "ExecuteTime": {
     "end_time": "2025-01-09T09:22:12.518102Z",
     "start_time": "2025-01-09T09:22:12.515186Z"
    }
   },
   "cell_type": "code",
   "source": [
    "def loaded_callback(event_details):\n",
    "    print('Report is loaded')\n",
    "\n",
    "report.on('loaded', loaded_callback)"
   ],
   "id": "30c04991cd04be4b",
   "outputs": [],
   "execution_count": 22
  },
  {
   "metadata": {
    "ExecuteTime": {
     "end_time": "2025-01-09T09:22:12.532619Z",
     "start_time": "2025-01-09T09:22:12.529702Z"
    }
   },
   "cell_type": "code",
   "source": [
    "def rendered_callback(event_details):\n",
    "    print('Report is rendered')\n",
    "\n",
    "report.on('rendered', rendered_callback)"
   ],
   "id": "a0f57281ed106990",
   "outputs": [],
   "execution_count": 23
  },
  {
   "metadata": {
    "ExecuteTime": {
     "end_time": "2025-01-09T09:22:12.553056Z",
     "start_time": "2025-01-09T09:22:12.546015Z"
    }
   },
   "cell_type": "code",
   "source": [
    "# Render report\n",
    "report"
   ],
   "id": "cfba7b2a5dd4ff05",
   "outputs": [
    {
     "data": {
      "text/plain": [
       "Report()"
      ],
      "application/vnd.jupyter.widget-view+json": {
       "version_major": 2,
       "version_minor": 0,
       "model_id": "84c7348a0dd344f3a0e3086db60d0803"
      }
     },
     "execution_count": 24,
     "metadata": {},
     "output_type": "execute_result"
    }
   ],
   "execution_count": 24
  },
  {
   "metadata": {
    "ExecuteTime": {
     "end_time": "2025-01-09T09:22:27.579052Z",
     "start_time": "2025-01-09T09:22:12.574891Z"
    }
   },
   "cell_type": "code",
   "source": "time.sleep(15)",
   "id": "160bcded702f50c7",
   "outputs": [],
   "execution_count": 25
  },
  {
   "metadata": {
    "ExecuteTime": {
     "end_time": "2025-01-09T09:22:28.620395Z",
     "start_time": "2025-01-09T09:22:27.592095Z"
    }
   },
   "cell_type": "code",
   "source": [
    "#GET all pages\n",
    "pages = report.get_pages()\n",
    "print(pages)"
   ],
   "id": "d42c2150fe97299",
   "outputs": [
    {
     "name": "stdout",
     "output_type": "stream",
     "text": [
      "[{'name': 'ad7629625350de3c2f92', 'displayName': 'Customers', 'isActive': False, 'visibility': 0, 'defaultSize': {'type': 0, 'width': 1280, 'height': 720}, 'mobileSize': None, 'defaultDisplayOption': 0, 'background': None, 'wallpaper': None}, {'name': '2d7047f129c3f2484ff2', 'displayName': 'Main Offices', 'isActive': False, 'visibility': 0, 'defaultSize': {'type': 0, 'width': 1280, 'height': 720}, 'mobileSize': None, 'defaultDisplayOption': 0, 'background': None, 'wallpaper': None}, {'name': '38741aa4f17a9ebc9995', 'displayName': 'Product_Size_Weight_Color', 'isActive': False, 'visibility': 0, 'defaultSize': {'type': 0, 'width': 1280, 'height': 720}, 'mobileSize': None, 'defaultDisplayOption': 0, 'background': None, 'wallpaper': None}, {'name': '50c1abe0586dfc224c03', 'displayName': 'Sales_quantity_amount_monthCategory', 'isActive': False, 'visibility': 0, 'defaultSize': {'type': 0, 'width': 1280, 'height': 720}, 'mobileSize': None, 'defaultDisplayOption': 0, 'background': None, 'wallpaper': None}, {'name': 'e3e8edd15f80dbc7ad77', 'displayName': 'Sales_quantity_country', 'isActive': False, 'visibility': 0, 'defaultSize': {'type': 0, 'width': 1280, 'height': 720}, 'mobileSize': None, 'defaultDisplayOption': 0, 'background': None, 'wallpaper': None}, {'name': '30e7910a0c74d5ed9130', 'displayName': 'product_best_worst', 'isActive': False, 'visibility': 0, 'defaultSize': {'type': 0, 'width': 1280, 'height': 720}, 'mobileSize': None, 'defaultDisplayOption': 0, 'background': None, 'wallpaper': None}, {'name': '7c653908f5a8a0f72bb0', 'displayName': 'Dashboard1', 'isActive': False, 'visibility': 0, 'defaultSize': {'type': 0, 'width': 1280, 'height': 720}, 'mobileSize': None, 'defaultDisplayOption': 0, 'background': None, 'wallpaper': None}, {'name': 'b68cb1241c5ac12d55a6', 'displayName': 'Dashboard2', 'isActive': True, 'visibility': 0, 'defaultSize': {'type': 0, 'width': 1280, 'height': 720}, 'mobileSize': None, 'defaultDisplayOption': 0, 'background': {'color': '#FFFFFF', 'transparency': 41, 'hasImage': True}, 'wallpaper': {'color': '#FFFFFF', 'transparency': 0, 'hasImage': False}}]\n"
     ]
    }
   ],
   "execution_count": 26
  },
  {
   "metadata": {
    "ExecuteTime": {
     "end_time": "2025-01-09T09:23:06.296339Z",
     "start_time": "2025-01-09T09:22:28.704460Z"
    }
   },
   "cell_type": "code",
   "source": [
    "# Define the types of visuals to export data for\n",
    "visual_types_to_export = ['barChart', 'lineChart', 'pieChart', 'clusteredColumnChart', 'table', 'tableEx', 'map', 'slicer', 'lineClusteredColumnComboChart', 'shapeMap', 'decompositionTreeVisual', 'card']\n",
    "\n",
    "# Iterate over the visuals and export data for the specified types\n",
    "for page in pages:\n",
    "    page_name = page['name']\n",
    "    report.set_active_page(page_name)\n",
    "    page_display_name = page['displayName']\n",
    "    visuals = report.visuals_on_page(page_name)\n",
    "    for visual in visuals:\n",
    "        if visual['type'] in visual_types_to_export:\n",
    "            try:\n",
    "                summarized_exported_data = report.export_visual_data(page_name, visual['name'], rows=20)\n",
    "                data = StringIO(summarized_exported_data)\n",
    "                # Load data into pandas DataFrame\n",
    "                df = pd.read_csv(data, sep=\",\")\n",
    "                # Store the DataFrame as a CSV file in the 'csv' folder\n",
    "                csv_file_path = f'csv/{visual[\"type\"]}_{visual[\"title\"].replace(\" \", \"_\")}_{visual['name']}_{page_display_name.replace(\" \", \"_\")}.csv'\n",
    "                df.to_csv(csv_file_path, index=False)\n",
    "                print(f\"Data for visual '{visual[\"title\"].replace(\" \", \"\")}' of type '{visual['type']}' exported successfully.\")\n",
    "            except Exception as e:\n",
    "                print(f\"Could not export data for visual '{visual[\"title\"].replace(\" \", \"\")}' of type '{visual['type']}': {e}\")\n",
    "    page['isActive'] = False"
   ],
   "id": "9091afc6a2873ac0",
   "outputs": [],
   "execution_count": 27
  }
 ],
 "metadata": {
  "kernelspec": {
   "display_name": "Python 3",
   "language": "python",
   "name": "python3"
  },
  "language_info": {
   "codemirror_mode": {
    "name": "ipython",
    "version": 2
   },
   "file_extension": ".py",
   "mimetype": "text/x-python",
   "name": "python",
   "nbconvert_exporter": "python",
   "pygments_lexer": "ipython2",
   "version": "2.7.6"
  }
 },
 "nbformat": 4,
 "nbformat_minor": 5
}
