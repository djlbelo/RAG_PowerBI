{
 "cells": [
  {
   "cell_type": "code",
   "id": "initial_id",
   "metadata": {
    "collapsed": true,
    "ExecuteTime": {
     "end_time": "2025-01-09T12:17:50.476261Z",
     "start_time": "2025-01-09T12:17:50.472025Z"
    }
   },
   "source": [
    "import pandas as pd\n",
    "import time\n",
    "import msal\n",
    "from io import StringIO\n",
    "from powerbiclient import Report, QuickVisualize"
   ],
   "outputs": [],
   "execution_count": 35
  },
  {
   "metadata": {
    "ExecuteTime": {
     "end_time": "2025-01-09T12:17:50.500377Z",
     "start_time": "2025-01-09T12:17:50.496269Z"
    }
   },
   "cell_type": "code",
   "source": [
    "# Variables\n",
    "AUTHORITY_URL = f'https://login.microsoftonline.com/organizations'\n",
    "CLIENT_ID = '04bb970d-3099-4845-b81d-92e23362f261'\n",
    "SCOPE = [\"https://api.fabric.microsoft.com/Dataset.ReadWrite.All\",\n",
    "    \"https://api.fabric.microsoft.com/Dashboard.ReadWrite.All\",\n",
    "    \"https://api.fabric.microsoft.com/Item.ReadWrite.All\",\n",
    "    \"https://api.fabric.microsoft.com/Workspace.ReadWrite.All\",\n",
    "    \"https://api.fabric.microsoft.com/Report.ReadWrite.All\",\n",
    "    \"https://api.fabric.microsoft.com/Content.Create\"]\n",
    "\n",
    "POWER_BI_API_URL = f'https://api.powerbi.com/v1.0/myorg/'\n",
    "TENANT_ID = '057866cb-0e0f-4818-bd4a-0255845df359'\n",
    "\n",
    "group_id = ''\n",
    "access_token = ''"
   ],
   "id": "3308013946e93a64",
   "outputs": [],
   "execution_count": 36
  },
  {
   "metadata": {
    "ExecuteTime": {
     "end_time": "2025-01-09T12:17:52.574271Z",
     "start_time": "2025-01-09T12:17:50.512108Z"
    }
   },
   "cell_type": "code",
   "source": [
    "# Authentication\n",
    "\n",
    "if not access_token:\n",
    "    app = msal.PublicClientApplication(\n",
    "        CLIENT_ID,\n",
    "        authority=AUTHORITY_URL\n",
    "    )\n",
    "    result = app.acquire_token_interactive(scopes=SCOPE)\n",
    "    if 'access_token' in result:\n",
    "        access_token = result['access_token']\n",
    "        print('Access token obtained successfully by interactive login')\n",
    "    else:\n",
    "        print(f'Error obtaining access token: {result}, trying username and password')\n",
    "        \n",
    "        app = msal.PublicClientApplication(\n",
    "            CLIENT_ID, \n",
    "            authority=TENANT_ID\n",
    "        )\n",
    "        username = input('Enter username: ')\n",
    "        password = input('Enter password: ')\n",
    "        result = app.acquire_token_by_username_password(username, password, SCOPE)\n",
    "        if 'access_token' in result:\n",
    "            access_token = result['access_token']\n",
    "            print('Access token obtained successfully by username and password')\n",
    "        else:\n",
    "            print(f'Error obtaining access token: {result}')\n",
    "\n",
    "# Headers\n",
    "headers = {'Authorization': f'Bearer {access_token}'}"
   ],
   "id": "79f83586768fbb43",
   "outputs": [
    {
     "name": "stdout",
     "output_type": "stream",
     "text": [
      "Access token obtained successfully by interactive login\n"
     ]
    }
   ],
   "execution_count": 37
  },
  {
   "metadata": {
    "ExecuteTime": {
     "end_time": "2025-01-09T12:17:52.606565Z",
     "start_time": "2025-01-09T12:17:52.598519Z"
    }
   },
   "cell_type": "code",
   "source": [
    "# Workspaces Metadata\n",
    "\n",
    "# TODO: get metadata for all workspaces\n",
    "#%run powerbi_metadata.py\n",
    "\n",
    "#open responses/summary.json\n",
    "info = pd.read_json('responses/summary.json')"
   ],
   "id": "f9a1bbbb6dc328b6",
   "outputs": [],
   "execution_count": 38
  },
  {
   "metadata": {
    "ExecuteTime": {
     "end_time": "2025-01-09T12:17:52.625717Z",
     "start_time": "2025-01-09T12:17:52.619277Z"
    }
   },
   "cell_type": "code",
   "source": [
    "# Auxiliar functions\n",
    "def loaded_callback(event_details):\n",
    "    print('Report is loaded')\n",
    "\n",
    "def rendered_callback(event_details):\n",
    "    print('Report is rendered')\n",
    "    \n",
    "def summarize_vis_data(report, pages):\n",
    "    # Define the types of visuals to export data for\n",
    "    visual_types_to_export = ['barChart', 'lineChart', 'pieChart', 'clusteredColumnChart', 'table', 'tableEx', 'map', 'slicer', 'lineClusteredColumnComboChart', 'shapeMap', 'decompositionTreeVisual', 'card']\n",
    "    \n",
    "    # Iterate over the visuals and export data for the specified types\n",
    "    for page in pages:\n",
    "        page_name = page['name']\n",
    "        report.set_active_page(page_name)\n",
    "        page_display_name = page['displayName']\n",
    "        visuals = report.visuals_on_page(page_name)\n",
    "        for visual in visuals:\n",
    "            if visual['type'] in visual_types_to_export:\n",
    "                try:\n",
    "                    summarized_exported_data = report.export_visual_data(page_name, visual['name'], rows=20)\n",
    "                    data = StringIO(summarized_exported_data)\n",
    "                    # Load data into pandas DataFrame\n",
    "                    df = pd.read_csv(data, sep=\",\")\n",
    "                    # Store the DataFrame as a CSV file in the 'csv' folder\n",
    "                    csv_file_path = f'csv/{visual[\"type\"]}_{visual[\"title\"].replace(\" \", \"_\")}_{visual['name']}_{page_display_name.replace(\" \", \"_\")}.csv'\n",
    "                    df.to_csv(csv_file_path, index=False)\n",
    "                    print(f\"Data for visual '{visual[\"title\"].replace(\" \", \"\")}' of type '{visual['type']}' exported successfully.\")\n",
    "                except Exception as e:\n",
    "                    print(f\"Could not export data for visual '{visual[\"title\"].replace(\" \", \"\")}' of type '{visual['type']}': {e}\")\n",
    "        page['isActive'] = False"
   ],
   "id": "f28555324bb7c879",
   "outputs": [],
   "execution_count": 39
  },
  {
   "metadata": {
    "ExecuteTime": {
     "end_time": "2025-01-09T12:17:52.849129Z",
     "start_time": "2025-01-09T12:17:52.637240Z"
    }
   },
   "cell_type": "code",
   "source": [
    "# Loop through workspaces and get reports\n",
    "for workspace in info:\n",
    "    for report_id in workspace:\n",
    "        report = Report(group_id, report_id, access_token)\n",
    "        \n",
    "        report.embed()\n",
    "        \n",
    "        report.on('loaded', loaded_callback)\n",
    "        report.on('rendered', rendered_callback)\n",
    "        \n",
    "        summarize_vis_data(report, report.get_pages())"
   ],
   "id": "a6399d3c9cf34185",
   "outputs": [
    {
     "ename": "Exception",
     "evalue": "Could not get embed URL: Get embed URL failed with status code 404",
     "output_type": "error",
     "traceback": [
      "\u001B[1;31m---------------------------------------------------------------------------\u001B[0m",
      "\u001B[1;31mException\u001B[0m                                 Traceback (most recent call last)",
      "File \u001B[1;32m~\\AppData\\Local\\Programs\\Python\\Python312\\Lib\\site-packages\\powerbiclient\\report.py:268\u001B[0m, in \u001B[0;36mReport.__init__\u001B[1;34m(self, group_id, report_id, auth, view_mode, permissions, dataset_id, **kwargs)\u001B[0m\n\u001B[0;32m    267\u001B[0m         response_key \u001B[38;5;241m=\u001B[39m \u001B[38;5;124m\"\u001B[39m\u001B[38;5;124membedUrl\u001B[39m\u001B[38;5;124m\"\u001B[39m\n\u001B[1;32m--> 268\u001B[0m     embed_url \u001B[38;5;241m=\u001B[39m \u001B[38;5;28;43mself\u001B[39;49m\u001B[38;5;241;43m.\u001B[39;49m\u001B[43m_get_embed_url\u001B[49m\u001B[43m(\u001B[49m\n\u001B[0;32m    269\u001B[0m \u001B[43m        \u001B[49m\u001B[43mrequest_url\u001B[49m\u001B[38;5;241;43m=\u001B[39;49m\u001B[43mrequest_url\u001B[49m\u001B[43m,\u001B[49m\u001B[43m \u001B[49m\u001B[43mtoken\u001B[49m\u001B[38;5;241;43m=\u001B[39;49m\u001B[43maccess_token\u001B[49m\u001B[43m,\u001B[49m\u001B[43m \u001B[49m\u001B[43mresponse_key\u001B[49m\u001B[38;5;241;43m=\u001B[39;49m\u001B[43mresponse_key\u001B[49m\u001B[43m)\u001B[49m\n\u001B[0;32m    271\u001B[0m \u001B[38;5;28;01mexcept\u001B[39;00m \u001B[38;5;167;01mException\u001B[39;00m \u001B[38;5;28;01mas\u001B[39;00m ex:\n",
      "File \u001B[1;32m~\\AppData\\Local\\Programs\\Python\\Python312\\Lib\\site-packages\\powerbiclient\\report.py:309\u001B[0m, in \u001B[0;36mReport._get_embed_url\u001B[1;34m(self, request_url, token, response_key)\u001B[0m\n\u001B[0;32m    308\u001B[0m \u001B[38;5;28;01mif\u001B[39;00m \u001B[38;5;129;01mnot\u001B[39;00m response\u001B[38;5;241m.\u001B[39mok:\n\u001B[1;32m--> 309\u001B[0m     \u001B[38;5;28;01mraise\u001B[39;00m \u001B[38;5;167;01mException\u001B[39;00m(\n\u001B[0;32m    310\u001B[0m         \u001B[38;5;124m\"\u001B[39m\u001B[38;5;124mGet embed URL failed with status code \u001B[39m\u001B[38;5;132;01m{0}\u001B[39;00m\u001B[38;5;124m\"\u001B[39m\u001B[38;5;241m.\u001B[39mformat(response\u001B[38;5;241m.\u001B[39mstatus_code))\n\u001B[0;32m    311\u001B[0m \u001B[38;5;28;01mreturn\u001B[39;00m response\u001B[38;5;241m.\u001B[39mjson()[response_key]\n",
      "\u001B[1;31mException\u001B[0m: Get embed URL failed with status code 404",
      "\nDuring handling of the above exception, another exception occurred:\n",
      "\u001B[1;31mException\u001B[0m                                 Traceback (most recent call last)",
      "Cell \u001B[1;32mIn[40], line 4\u001B[0m\n\u001B[0;32m      2\u001B[0m \u001B[38;5;28;01mfor\u001B[39;00m workspace \u001B[38;5;129;01min\u001B[39;00m info:\n\u001B[0;32m      3\u001B[0m     \u001B[38;5;28;01mfor\u001B[39;00m report_id \u001B[38;5;129;01min\u001B[39;00m workspace:\n\u001B[1;32m----> 4\u001B[0m         report \u001B[38;5;241m=\u001B[39m \u001B[43mReport\u001B[49m\u001B[43m(\u001B[49m\u001B[43mgroup_id\u001B[49m\u001B[43m,\u001B[49m\u001B[43m \u001B[49m\u001B[43mreport_id\u001B[49m\u001B[43m,\u001B[49m\u001B[43m \u001B[49m\u001B[43maccess_token\u001B[49m\u001B[43m)\u001B[49m\n\u001B[0;32m      6\u001B[0m         \u001B[38;5;66;03m#TODO: embed/print report\u001B[39;00m\n\u001B[0;32m      7\u001B[0m         QuickVisualize(report)\n",
      "File \u001B[1;32m~\\AppData\\Local\\Programs\\Python\\Python312\\Lib\\site-packages\\powerbiclient\\report.py:272\u001B[0m, in \u001B[0;36mReport.__init__\u001B[1;34m(self, group_id, report_id, auth, view_mode, permissions, dataset_id, **kwargs)\u001B[0m\n\u001B[0;32m    268\u001B[0m     embed_url \u001B[38;5;241m=\u001B[39m \u001B[38;5;28mself\u001B[39m\u001B[38;5;241m.\u001B[39m_get_embed_url(\n\u001B[0;32m    269\u001B[0m         request_url\u001B[38;5;241m=\u001B[39mrequest_url, token\u001B[38;5;241m=\u001B[39maccess_token, response_key\u001B[38;5;241m=\u001B[39mresponse_key)\n\u001B[0;32m    271\u001B[0m \u001B[38;5;28;01mexcept\u001B[39;00m \u001B[38;5;167;01mException\u001B[39;00m \u001B[38;5;28;01mas\u001B[39;00m ex:\n\u001B[1;32m--> 272\u001B[0m     \u001B[38;5;28;01mraise\u001B[39;00m \u001B[38;5;167;01mException\u001B[39;00m(\u001B[38;5;124m\"\u001B[39m\u001B[38;5;124mCould not get embed URL: \u001B[39m\u001B[38;5;132;01m{0}\u001B[39;00m\u001B[38;5;124m\"\u001B[39m\u001B[38;5;241m.\u001B[39mformat(ex))\n\u001B[0;32m    274\u001B[0m \u001B[38;5;66;03m# Tells if Power BI events are being observed\u001B[39;00m\n\u001B[0;32m    275\u001B[0m \u001B[38;5;28mself\u001B[39m\u001B[38;5;241m.\u001B[39m_observing_events \u001B[38;5;241m=\u001B[39m \u001B[38;5;28;01mFalse\u001B[39;00m\n",
      "\u001B[1;31mException\u001B[0m: Could not get embed URL: Get embed URL failed with status code 404"
     ]
    }
   ],
   "execution_count": 40
  },
  {
   "metadata": {
    "ExecuteTime": {
     "end_time": "2025-01-09T12:17:52.923601Z",
     "start_time": "2025-01-09T09:22:12.546015Z"
    }
   },
   "cell_type": "code",
   "source": [
    "# Render report\n",
    "report"
   ],
   "id": "cfba7b2a5dd4ff05",
   "outputs": [
    {
     "data": {
      "text/plain": [
       "Report()"
      ],
      "application/vnd.jupyter.widget-view+json": {
       "version_major": 2,
       "version_minor": 0,
       "model_id": "84c7348a0dd344f3a0e3086db60d0803"
      }
     },
     "execution_count": 24,
     "metadata": {},
     "output_type": "execute_result"
    }
   ],
   "execution_count": 24
  },
  {
   "metadata": {
    "ExecuteTime": {
     "end_time": "2025-01-09T12:17:52.923601Z",
     "start_time": "2025-01-09T09:22:12.574891Z"
    }
   },
   "cell_type": "code",
   "source": "time.sleep(15)",
   "id": "160bcded702f50c7",
   "outputs": [],
   "execution_count": 25
  },
  {
   "metadata": {
    "ExecuteTime": {
     "end_time": "2025-01-09T12:17:52.923601Z",
     "start_time": "2025-01-09T09:22:27.592095Z"
    }
   },
   "cell_type": "code",
   "source": [
    "#GET all pages\n",
    "pages = report.get_pages()\n",
    "print(pages)"
   ],
   "id": "d42c2150fe97299",
   "outputs": [
    {
     "name": "stdout",
     "output_type": "stream",
     "text": [
      "[{'name': 'ad7629625350de3c2f92', 'displayName': 'Customers', 'isActive': False, 'visibility': 0, 'defaultSize': {'type': 0, 'width': 1280, 'height': 720}, 'mobileSize': None, 'defaultDisplayOption': 0, 'background': None, 'wallpaper': None}, {'name': '2d7047f129c3f2484ff2', 'displayName': 'Main Offices', 'isActive': False, 'visibility': 0, 'defaultSize': {'type': 0, 'width': 1280, 'height': 720}, 'mobileSize': None, 'defaultDisplayOption': 0, 'background': None, 'wallpaper': None}, {'name': '38741aa4f17a9ebc9995', 'displayName': 'Product_Size_Weight_Color', 'isActive': False, 'visibility': 0, 'defaultSize': {'type': 0, 'width': 1280, 'height': 720}, 'mobileSize': None, 'defaultDisplayOption': 0, 'background': None, 'wallpaper': None}, {'name': '50c1abe0586dfc224c03', 'displayName': 'Sales_quantity_amount_monthCategory', 'isActive': False, 'visibility': 0, 'defaultSize': {'type': 0, 'width': 1280, 'height': 720}, 'mobileSize': None, 'defaultDisplayOption': 0, 'background': None, 'wallpaper': None}, {'name': 'e3e8edd15f80dbc7ad77', 'displayName': 'Sales_quantity_country', 'isActive': False, 'visibility': 0, 'defaultSize': {'type': 0, 'width': 1280, 'height': 720}, 'mobileSize': None, 'defaultDisplayOption': 0, 'background': None, 'wallpaper': None}, {'name': '30e7910a0c74d5ed9130', 'displayName': 'product_best_worst', 'isActive': False, 'visibility': 0, 'defaultSize': {'type': 0, 'width': 1280, 'height': 720}, 'mobileSize': None, 'defaultDisplayOption': 0, 'background': None, 'wallpaper': None}, {'name': '7c653908f5a8a0f72bb0', 'displayName': 'Dashboard1', 'isActive': False, 'visibility': 0, 'defaultSize': {'type': 0, 'width': 1280, 'height': 720}, 'mobileSize': None, 'defaultDisplayOption': 0, 'background': None, 'wallpaper': None}, {'name': 'b68cb1241c5ac12d55a6', 'displayName': 'Dashboard2', 'isActive': True, 'visibility': 0, 'defaultSize': {'type': 0, 'width': 1280, 'height': 720}, 'mobileSize': None, 'defaultDisplayOption': 0, 'background': {'color': '#FFFFFF', 'transparency': 41, 'hasImage': True}, 'wallpaper': {'color': '#FFFFFF', 'transparency': 0, 'hasImage': False}}]\n"
     ]
    }
   ],
   "execution_count": 26
  },
  {
   "metadata": {
    "ExecuteTime": {
     "end_time": "2025-01-09T12:17:52.923601Z",
     "start_time": "2025-01-09T09:22:28.704460Z"
    }
   },
   "cell_type": "code",
   "source": "",
   "id": "9091afc6a2873ac0",
   "outputs": [],
   "execution_count": 27
  }
 ],
 "metadata": {
  "kernelspec": {
   "display_name": "Python 3",
   "language": "python",
   "name": "python3"
  },
  "language_info": {
   "codemirror_mode": {
    "name": "ipython",
    "version": 2
   },
   "file_extension": ".py",
   "mimetype": "text/x-python",
   "name": "python",
   "nbconvert_exporter": "python",
   "pygments_lexer": "ipython2",
   "version": "2.7.6"
  }
 },
 "nbformat": 4,
 "nbformat_minor": 5
}
