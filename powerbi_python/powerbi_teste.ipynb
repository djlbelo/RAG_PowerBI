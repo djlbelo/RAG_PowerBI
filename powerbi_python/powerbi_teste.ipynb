{
 "cells": [
  {
   "cell_type": "code",
   "execution_count": 30,
   "id": "initial_id",
   "metadata": {
    "ExecuteTime": {
     "end_time": "2024-12-30T10:45:15.578946Z",
     "start_time": "2024-12-30T10:45:15.574585Z"
    },
    "collapsed": true,
    "execution": {
     "iopub.execute_input": "2024-12-31T10:52:19.785813Z",
     "iopub.status.busy": "2024-12-31T10:52:19.785813Z",
     "iopub.status.idle": "2024-12-31T10:52:20.718673Z",
     "shell.execute_reply": "2024-12-31T10:52:20.718673Z"
    },
    "papermill": {
     "duration": 0.942535,
     "end_time": "2024-12-31T10:52:20.720301",
     "exception": false,
     "start_time": "2024-12-31T10:52:19.777766",
     "status": "completed"
    },
    "tags": []
   },
   "outputs": [],
   "source": [
    "import pandas as pd\n",
    "import requests\n",
    "import msal\n",
    "from io import StringIO\n",
    "from powerbiclient import Report, models\n",
    "from powerbiclient.authentication import InteractiveLoginAuthentication\n",
    "import asyncio\n",
    "import time\n",
    "# Set the event loop policy to WindowsSelectorEventLoopPolicy\n",
    "asyncio.set_event_loop_policy(asyncio.WindowsSelectorEventLoopPolicy())\n"
   ]
  },
  {
   "cell_type": "code",
   "execution_count": 31,
   "id": "fa47666b44b897f5",
   "metadata": {
    "execution": {
     "iopub.execute_input": "2024-12-31T10:52:20.727805Z",
     "iopub.status.busy": "2024-12-31T10:52:20.727805Z",
     "iopub.status.idle": "2024-12-31T10:53:18.233245Z",
     "shell.execute_reply": "2024-12-31T10:53:18.232239Z"
    },
    "papermill": {
     "duration": 57.478774,
     "end_time": "2024-12-31T10:53:18.203087",
     "exception": false,
     "start_time": "2024-12-31T10:52:20.724313",
     "status": "completed"
    },
    "tags": []
   },
   "outputs": [
    {
     "name": "stdout",
     "output_type": "stream",
     "text": [
      "A local browser window will open for interactive sign in.\n",
      "\n",
      "Interactive authentication successfully completed.\n",
      "You are now logged in.\n",
      "\n",
      "The result should be passed only to trusted code in your notebook.\n"
     ]
    }
   ],
   "source": [
    "\n",
    "report_id = \"dc20da54-0dde-4b7e-aa9c-4435bb7c71be\"\n",
    "auth = InteractiveLoginAuthentication()"
   ]
  },
  {
   "cell_type": "code",
   "execution_count": 32,
   "id": "a6399d3c9cf34185",
   "metadata": {
    "ExecuteTime": {
     "end_time": "2024-12-30T10:53:44.418727Z",
     "start_time": "2024-12-30T10:53:43.435918Z"
    },
    "papermill": {
     "duration": null,
     "end_time": null,
     "exception": null,
     "start_time": null,
     "status": "completed"
    },
    "tags": []
   },
   "outputs": [],
   "source": [
    "report = Report(group_id='ceb0d1d0-6226-4aef-b245-fac7f89bb52e', report_id=report_id,  auth=auth)"
   ]
  },
  {
   "cell_type": "code",
   "execution_count": 33,
   "id": "30c04991cd04be4b",
   "metadata": {
    "ExecuteTime": {
     "end_time": "2024-12-30T10:45:28.145045Z",
     "start_time": "2024-12-30T10:45:28.137569Z"
    },
    "papermill": {
     "duration": null,
     "end_time": null,
     "exception": null,
     "start_time": null,
     "status": "completed"
    },
    "tags": []
   },
   "outputs": [],
   "source": [
    "def loaded_callback(event_details):\n",
    "    print('Report is loaded')\n",
    "\n",
    "report.on('loaded', loaded_callback)"
   ]
  },
  {
   "cell_type": "code",
   "execution_count": 34,
   "id": "a0f57281ed106990",
   "metadata": {
    "ExecuteTime": {
     "end_time": "2024-12-30T10:45:28.160685Z",
     "start_time": "2024-12-30T10:45:28.156449Z"
    },
    "papermill": {
     "duration": null,
     "end_time": null,
     "exception": null,
     "start_time": null,
     "status": "completed"
    },
    "tags": []
   },
   "outputs": [],
   "source": [
    "def rendered_callback(event_details):\n",
    "    print('Report is rendered')\n",
    "\n",
    "report.on('rendered', rendered_callback)"
   ]
  },
  {
   "cell_type": "code",
   "execution_count": 35,
   "id": "cfba7b2a5dd4ff05",
   "metadata": {
    "ExecuteTime": {
     "end_time": "2024-12-30T10:54:58.691244Z",
     "start_time": "2024-12-30T10:54:58.684719Z"
    },
    "papermill": {
     "duration": null,
     "end_time": null,
     "exception": null,
     "start_time": null,
     "status": "completed"
    },
    "tags": []
   },
   "outputs": [
    {
     "data": {
      "application/vnd.jupyter.widget-view+json": {
       "model_id": "7a3e7de537f7476e9318f7f4ad23030b",
       "version_major": 2,
       "version_minor": 0
      },
      "text/plain": [
       "Report()"
      ]
     },
     "execution_count": 35,
     "metadata": {},
     "output_type": "execute_result"
    }
   ],
   "source": [
    "# Render report\n",
    "report"
   ]
  },
  {
   "cell_type": "code",
   "execution_count": 36,
   "id": "dec8b0b2",
   "metadata": {},
   "outputs": [],
   "source": [
    "time.sleep(15)"
   ]
  },
  {
   "cell_type": "code",
   "execution_count": 37,
   "id": "160bcded702f50c7",
   "metadata": {
    "ExecuteTime": {
     "end_time": "2024-12-30T10:55:12.537327Z",
     "start_time": "2024-12-30T10:55:11.505601Z"
    },
    "papermill": {
     "duration": null,
     "end_time": null,
     "exception": null,
     "start_time": null,
     "status": "completed"
    },
    "tags": []
   },
   "outputs": [
    {
     "name": "stdout",
     "output_type": "stream",
     "text": [
      "Report is rendered\n",
      "Report is rendered\n",
      "Report is rendered\n"
     ]
    },
    {
     "name": "stdout",
     "output_type": "stream",
     "text": [
      "[{'name': 'ReportSectiondecccb8482fa6cf4f797', 'displayName': 'Regional Sales Analysis', 'isActive': True, 'visibility': 0, 'defaultSize': {'type': 0, 'width': 1280, 'height': 720}, 'mobileSize': None, 'defaultDisplayOption': 0, 'background': {'color': '#FFFFFF', 'transparency': 0, 'hasImage': True}, 'wallpaper': {'color': '#f1f4f6', 'transparency': 0, 'hasImage': False}}, {'name': 'ReportSection98ceb79bc32f027d9868', 'displayName': 'Page tooltip', 'isActive': False, 'visibility': 1, 'defaultSize': {'width': 320, 'height': 240}, 'mobileSize': None, 'defaultDisplayOption': 2, 'background': None, 'wallpaper': None}]\n"
     ]
    }
   ],
   "source": [
    "#GET all pages\n",
    "pages = report.get_pages()\n",
    "print(pages)"
   ]
  },
  {
   "cell_type": "code",
   "execution_count": 38,
   "id": "41a2ebc5",
   "metadata": {},
   "outputs": [],
   "source": [
    "time.sleep(10)"
   ]
  },
  {
   "cell_type": "code",
   "execution_count": 39,
   "id": "9091afc6a2873ac0",
   "metadata": {
    "ExecuteTime": {
     "end_time": "2024-12-30T10:45:28.268837900Z",
     "start_time": "2024-12-30T10:39:43.199437Z"
    },
    "papermill": {
     "duration": null,
     "end_time": null,
     "exception": null,
     "start_time": null,
     "status": "completed"
    },
    "tags": []
   },
   "outputs": [
    {
     "name": "stdout",
     "output_type": "stream",
     "text": [
      "Data for visual 'Card' of type 'card' exported successfully.\n",
      "Data for visual 'Card' of type 'card' exported successfully.\n",
      "Data for visual 'SalesDecomposition' of type 'decompositionTreeVisual' exported successfully.\n",
      "Data for visual 'Card' of type 'card' exported successfully.\n",
      "Data for visual 'Card' of type 'card' exported successfully.\n",
      "Data for visual 'SalesbyProduct' of type 'barChart' exported successfully.\n",
      "Data for visual 'Slicer' of type 'slicer' exported successfully.\n",
      "Data for visual 'Slicer' of type 'slicer' exported successfully.\n",
      "Data for visual 'Hoveronastateforsalesdetails' of type 'shapeMap' exported successfully.\n",
      "Data for visual 'SalesandAvgPricebyMonth' of type 'lineClusteredColumnComboChart' exported successfully.\n",
      "Data for visual 'Slicer' of type 'slicer' exported successfully.\n",
      "Data for visual 'Card' of type 'card' exported successfully.\n",
      "Data for visual 'SalesbyDemographic' of type 'barChart' exported successfully.\n",
      "Data for visual 'Card' of type 'card' exported successfully.\n",
      "Data for visual 'Card' of type 'card' exported successfully.\n"
     ]
    }
   ],
   "source": [
    "# Define the types of visuals to export data for\n",
    "\n",
    "visual_types_to_export = ['barChart', 'lineChart', 'pieChart', 'clusteredColumnChart', 'table', 'tableEx', 'map', 'slicer', 'lineClusteredColumnComboChart', 'shapeMap', 'decompositionTreeVisual', 'card']\n",
    "\n",
    "# Iterate over the visuals and export data for the specified types\n",
    "for page in pages:\n",
    "    page_name = page['name']\n",
    "    report.set_active_page(page_name)\n",
    "    page_display_name = page['displayName']\n",
    "    visuals = report.visuals_on_page(page_name)\n",
    "    for visual in visuals:\n",
    "        if visual['type'] in visual_types_to_export:\n",
    "            try:\n",
    "                summarized_exported_data = report.export_visual_data(page_name, visual['name'], rows=20)\n",
    "                data = StringIO(summarized_exported_data)\n",
    "                # Load data into pandas DataFrame\n",
    "                df = pd.read_csv(data, sep=\",\")\n",
    "                # Store the DataFrame as a CSV file in the 'csv' folder\n",
    "                csv_file_path = f'csv/{visual[\"type\"]}_{visual[\"title\"].replace(\" \", \"_\")}_{visual['name']}_{page_display_name.replace(\" \", \"_\")}.csv'\n",
    "                df.to_csv(csv_file_path, index=False)\n",
    "                print(f\"Data for visual '{visual[\"title\"].replace(\" \", \"\")}' of type '{visual['type']}' exported successfully.\")\n",
    "            except Exception as e:\n",
    "                print(f\"Could not export data for visual '{visual[\"title\"].replace(\" \", \"\")}' of type '{visual['type']}': {e}\")\n",
    "    page['isActive'] = False\n",
    "    "
   ]
  }
 ],
 "metadata": {
  "kernelspec": {
   "display_name": "Python 3",
   "language": "python",
   "name": "python3"
  },
  "language_info": {
   "codemirror_mode": {
    "name": "ipython",
    "version": 3
   },
   "file_extension": ".py",
   "mimetype": "text/x-python",
   "name": "python",
   "nbconvert_exporter": "python",
   "pygments_lexer": "ipython3",
   "version": "3.12.8"
  },
  "papermill": {
   "default_parameters": {},
   "duration": 61.295526,
   "end_time": "2024-12-31T10:53:18.758073",
   "environment_variables": {},
   "exception": null,
   "input_path": "powerbi_rag.ipynb",
   "output_path": "executed_notebook.ipynb",
   "parameters": {},
   "start_time": "2024-12-31T10:52:17.462547",
   "version": "2.6.0"
  }
 },
 "nbformat": 4,
 "nbformat_minor": 5
}
