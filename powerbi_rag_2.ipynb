{
 "cells": [
  {
   "cell_type": "code",
   "id": "initial_id",
   "metadata": {
    "collapsed": true,
    "ExecuteTime": {
     "end_time": "2024-12-27T10:27:17.558697Z",
     "start_time": "2024-12-27T10:27:14.152536Z"
    }
   },
   "source": [
    "import pandas as pd\n",
    "import requests\n",
    "import msal\n",
    "from io import StringIO\n",
    "from powerbiclient import Report, models\n",
    "from powerbiclient.authentication import DeviceCodeLoginAuthentication"
   ],
   "outputs": [],
   "execution_count": 1
  },
  {
   "metadata": {
    "ExecuteTime": {
     "end_time": "2024-12-27T10:27:46.560486Z",
     "start_time": "2024-12-27T10:27:17.592830Z"
    }
   },
   "cell_type": "code",
   "source": [
    "# Auth object for demo\n",
    "auth = DeviceCodeLoginAuthentication()"
   ],
   "id": "200dec6143461f4",
   "outputs": [
    {
     "name": "stdout",
     "output_type": "stream",
     "text": [
      "Performing device flow authentication. Please follow the instructions below.\n",
      "To sign in, use a web browser to open the page https://microsoft.com/devicelogin and enter the code B7T2WHTUK to authenticate.\n",
      "\n",
      "Device flow authentication successfully completed.\n",
      "You are now logged in .\n",
      "\n",
      "The result should be passed only to trusted code in your notebook.\n"
     ]
    }
   ],
   "execution_count": 2
  },
  {
   "metadata": {
    "ExecuteTime": {
     "end_time": "2024-12-27T10:28:06.685233Z",
     "start_time": "2024-12-27T10:28:05.165877Z"
    }
   },
   "cell_type": "code",
   "source": "report = Report(group_id='ceb0d1d0-6226-4aef-b245-fac7f89bb52e', report_id='025bdeaf-cf4e-40b9-a4c6-01446cbdff3f', auth=auth)",
   "id": "a6399d3c9cf34185",
   "outputs": [],
   "execution_count": 3
  },
  {
   "metadata": {
    "ExecuteTime": {
     "end_time": "2024-12-27T10:21:52.365458Z",
     "start_time": "2024-12-27T10:21:52.360459Z"
    }
   },
   "cell_type": "code",
   "source": [
    "def loaded_callback(event_details):\n",
    "    print('Report is loaded')\n",
    "\n",
    "#report.on('loaded', loaded_callback)"
   ],
   "id": "30c04991cd04be4b",
   "outputs": [],
   "execution_count": 15
  },
  {
   "metadata": {
    "ExecuteTime": {
     "end_time": "2024-12-27T10:21:52.381116Z",
     "start_time": "2024-12-27T10:21:52.377616Z"
    }
   },
   "cell_type": "code",
   "source": [
    "def rendered_callback(event_details):\n",
    "    print('Report is rendered')\n",
    "\n",
    "#report.on('rendered', rendered_callback)"
   ],
   "id": "a0f57281ed106990",
   "outputs": [],
   "execution_count": 16
  },
  {
   "metadata": {
    "ExecuteTime": {
     "end_time": "2024-12-27T10:28:14.910724Z",
     "start_time": "2024-12-27T10:28:14.899616Z"
    }
   },
   "cell_type": "code",
   "source": [
    "# Render report\n",
    "report"
   ],
   "id": "cfba7b2a5dd4ff05",
   "outputs": [
    {
     "data": {
      "text/plain": [
       "Report()"
      ],
      "application/vnd.jupyter.widget-view+json": {
       "version_major": 2,
       "version_minor": 0,
       "model_id": "deaa7180c2474edd9e02f1aa1efbeea5"
      }
     },
     "metadata": {},
     "output_type": "display_data"
    }
   ],
   "execution_count": 4
  },
  {
   "metadata": {
    "ExecuteTime": {
     "end_time": "2024-12-27T10:30:36.711622Z",
     "start_time": "2024-12-27T10:30:36.705391Z"
    }
   },
   "cell_type": "code",
   "source": [
    "# Get pages\n",
    "def get_active_page(self: Report):\n",
    "    # Get list of pages\n",
    "    pages = self.get_pages()\n",
    "    print(pages)\n",
    "    active_page = {}\n",
    "    for page in pages:\n",
    "        # Get active page\n",
    "        if page['isActive'] == True:\n",
    "            active_page = page\n",
    "            break\n",
    "    return active_page"
   ],
   "id": "f811d589e981aef8",
   "outputs": [],
   "execution_count": 5
  },
  {
   "metadata": {
    "ExecuteTime": {
     "end_time": "2024-12-27T10:34:13.127031Z",
     "start_time": "2024-12-27T10:34:12.097529Z"
    }
   },
   "cell_type": "code",
   "source": [
    "active_page = get_active_page(report)\n",
    "print(active_page)"
   ],
   "id": "e8fd23d12b39be4e",
   "outputs": [
    {
     "name": "stdout",
     "output_type": "stream",
     "text": [
      "[{'name': 'ad7629625350de3c2f92', 'displayName': 'Customers', 'isActive': False, 'visibility': 0, 'defaultSize': {'type': 0, 'width': 1280, 'height': 720}, 'mobileSize': None, 'defaultDisplayOption': 0, 'background': None, 'wallpaper': None}, {'name': '2d7047f129c3f2484ff2', 'displayName': 'Main Offices', 'isActive': False, 'visibility': 0, 'defaultSize': {'type': 0, 'width': 1280, 'height': 720}, 'mobileSize': None, 'defaultDisplayOption': 0, 'background': None, 'wallpaper': None}, {'name': '38741aa4f17a9ebc9995', 'displayName': 'Product_Size_Weight_Color', 'isActive': False, 'visibility': 0, 'defaultSize': {'type': 0, 'width': 1280, 'height': 720}, 'mobileSize': None, 'defaultDisplayOption': 0, 'background': None, 'wallpaper': None}, {'name': '50c1abe0586dfc224c03', 'displayName': 'Sales_quantity_amount_monthCategory', 'isActive': False, 'visibility': 0, 'defaultSize': {'type': 0, 'width': 1280, 'height': 720}, 'mobileSize': None, 'defaultDisplayOption': 0, 'background': None, 'wallpaper': None}, {'name': 'e3e8edd15f80dbc7ad77', 'displayName': 'Sales_quantity_country', 'isActive': False, 'visibility': 0, 'defaultSize': {'type': 0, 'width': 1280, 'height': 720}, 'mobileSize': None, 'defaultDisplayOption': 0, 'background': None, 'wallpaper': None}, {'name': '30e7910a0c74d5ed9130', 'displayName': 'product_best_worst', 'isActive': False, 'visibility': 0, 'defaultSize': {'type': 0, 'width': 1280, 'height': 720}, 'mobileSize': None, 'defaultDisplayOption': 0, 'background': None, 'wallpaper': None}, {'name': '7c653908f5a8a0f72bb0', 'displayName': 'Dashboard1', 'isActive': True, 'visibility': 0, 'defaultSize': {'type': 0, 'width': 1280, 'height': 720}, 'mobileSize': None, 'defaultDisplayOption': 0, 'background': {'color': '#FFFFFF', 'transparency': 41, 'hasImage': True}, 'wallpaper': {'color': '#FFFFFF', 'transparency': 0, 'hasImage': False}}, {'name': 'b68cb1241c5ac12d55a6', 'displayName': 'Dashboard2', 'isActive': False, 'visibility': 0, 'defaultSize': {'type': 0, 'width': 1280, 'height': 720}, 'mobileSize': None, 'defaultDisplayOption': 0, 'background': None, 'wallpaper': None}]\n",
      "{'name': '7c653908f5a8a0f72bb0', 'displayName': 'Dashboard1', 'isActive': True, 'visibility': 0, 'defaultSize': {'type': 0, 'width': 1280, 'height': 720}, 'mobileSize': None, 'defaultDisplayOption': 0, 'background': {'color': '#FFFFFF', 'transparency': 41, 'hasImage': True}, 'wallpaper': {'color': '#FFFFFF', 'transparency': 0, 'hasImage': False}}\n"
     ]
    }
   ],
   "execution_count": 11
  },
  {
   "metadata": {
    "ExecuteTime": {
     "end_time": "2024-12-27T10:31:09.746345Z",
     "start_time": "2024-12-27T10:31:09.739003Z"
    }
   },
   "cell_type": "code",
   "source": [
    "active_page_name = active_page['name']\n",
    "print(active_page_name)"
   ],
   "id": "4edebb373f61b766",
   "outputs": [
    {
     "name": "stdout",
     "output_type": "stream",
     "text": [
      "7c653908f5a8a0f72bb0\n"
     ]
    }
   ],
   "execution_count": 7
  },
  {
   "metadata": {
    "ExecuteTime": {
     "end_time": "2024-12-27T10:34:17.558610Z",
     "start_time": "2024-12-27T10:34:16.525116Z"
    }
   },
   "cell_type": "code",
   "source": [
    "visuals = report.visuals_on_page(active_page_name)\n",
    "visuals\n",
    "#export visuals var in json format\n",
    "\n",
    "#keys 'title' and 'type' from the visuals\n",
    "#visuals = [{k: v for k, v in visual.items() if k in ['title', 'type']} for visual in visuals]"
   ],
   "id": "19fe864c30091bb9",
   "outputs": [
    {
     "data": {
      "text/plain": [
       "[{'name': '75764dafc8d9f21d5b1a',\n",
       "  'title': 'Text box',\n",
       "  'type': 'textbox',\n",
       "  'layout': {'x': 143.06519898391196,\n",
       "   'y': 652.4640135478409,\n",
       "   'z': 6000,\n",
       "   'width': 994.9534292972058,\n",
       "   'height': 67.19729043183743,\n",
       "   'displayState': {'mode': 0}}},\n",
       " {'name': '9876f81a2fe98e265fca',\n",
       "  'title': 'Table',\n",
       "  'type': 'tableEx',\n",
       "  'layout': {'x': 981.9475021168502,\n",
       "   'y': 20.592718035563085,\n",
       "   'z': 5000,\n",
       "   'width': 273.1244707874683,\n",
       "   'height': 631.8712955122778,\n",
       "   'displayState': {'mode': 0}}},\n",
       " {'name': 'a92938dadb7a67c27cb2',\n",
       "  'title': 'Quantity # by Main Office Country and Main Office Country',\n",
       "  'type': 'clusteredColumnChart',\n",
       "  'layout': {'x': 799.8663324979115,\n",
       "   'y': 20.317460317460316,\n",
       "   'z': 4000,\n",
       "   'width': 181.7878028404344,\n",
       "   'height': 340.0501253132832,\n",
       "   'displayState': {'mode': 0}}},\n",
       " {'name': 'c152d7f12bc6cdb18b7a',\n",
       "  'title': 'Invoice Sales € by Main Office Country and Main Office Country',\n",
       "  'type': 'clusteredColumnChart',\n",
       "  'layout': {'x': 799.8645215918714,\n",
       "   'y': 359.8306519898391,\n",
       "   'z': 3000,\n",
       "   'width': 182.08298052497884,\n",
       "   'height': 292.6333615580017,\n",
       "   'displayState': {'mode': 0}}},\n",
       " {'name': 'f5b597c324a068623223',\n",
       "  'title': 'Quantity # by Color',\n",
       "  'type': 'pieChart',\n",
       "  'layout': {'x': 411.8543607112617,\n",
       "   'y': 359.8306519898391,\n",
       "   'z': 2000,\n",
       "   'width': 388.01016088060965,\n",
       "   'height': 292.6333615580017,\n",
       "   'displayState': {'mode': 0}}},\n",
       " {'name': 'f602e17e2922b3b4014d',\n",
       "  'title': 'Count of Main Office State Province by Main Office State Province and Main Office Country',\n",
       "  'type': 'map',\n",
       "  'layout': {'x': 22.45614035087719,\n",
       "   'y': 20.317460317460316,\n",
       "   'z': 1000,\n",
       "   'width': 777.4101921470342,\n",
       "   'height': 340.0501253132832,\n",
       "   'displayState': {'mode': 0}}},\n",
       " {'name': '9afd7ecee14f04a584cb',\n",
       "  'title': 'Number of Enterprises #, Number of Female Customers # and Number of Customers #',\n",
       "  'type': 'clusteredColumnChart',\n",
       "  'layout': {'x': 22.760372565622355,\n",
       "   'y': 359.8306519898391,\n",
       "   'z': 0,\n",
       "   'width': 389.0939881456393,\n",
       "   'height': 292.6333615580017,\n",
       "   'displayState': {'mode': 0}}}]"
      ]
     },
     "execution_count": 12,
     "metadata": {},
     "output_type": "execute_result"
    }
   ],
   "execution_count": 12
  },
  {
   "metadata": {
    "ExecuteTime": {
     "end_time": "2024-12-27T10:34:25.777480Z",
     "start_time": "2024-12-27T10:34:19.566415Z"
    }
   },
   "cell_type": "code",
   "source": [
    "# Define the types of visuals to export data for\n",
    "visual_types_to_export = ['barChart', 'lineChart', 'pieChart', 'clusteredColumnChart', 'table', 'tableEx', 'map']\n",
    "\n",
    "# Iterate over the visuals and export data for the specified types\n",
    "for visual in visuals:\n",
    "    if visual['type'] in visual_types_to_export:\n",
    "        try:\n",
    "            summarized_exported_data = report.export_visual_data(active_page_name,visual['name'], rows=20)\n",
    "            data = StringIO(summarized_exported_data)\n",
    "            # Load data into pandas DataFrame\n",
    "            df = pd.read_csv(data, sep=\",\")\n",
    "            # Store the DataFrame as a CSV file in the 'csv' folder\n",
    "            csv_file_path = f'csv/{visual[\"type\"]}_{visual[\"title\"].replace(\" \", \"\")}_{active_page['displayName']}.csv'\n",
    "            df.to_csv(csv_file_path, index=False)\n",
    "            print(f\"Data for visual '{report._model_name}' of type '{visual['type']}' exported successfully.\")\n",
    "        except Exception as e:\n",
    "            print(f\"Could not export data for visual '{report._model_name}' of type '{visual['type']}': {e}\")"
   ],
   "id": "9091afc6a2873ac0",
   "outputs": [
    {
     "name": "stdout",
     "output_type": "stream",
     "text": [
      "Data for visual 'ReportModel' of type 'tableEx' exported successfully.\n",
      "Data for visual 'ReportModel' of type 'clusteredColumnChart' exported successfully.\n",
      "Data for visual 'ReportModel' of type 'clusteredColumnChart' exported successfully.\n",
      "Data for visual 'ReportModel' of type 'pieChart' exported successfully.\n",
      "Data for visual 'ReportModel' of type 'map' exported successfully.\n",
      "Data for visual 'ReportModel' of type 'clusteredColumnChart' exported successfully.\n"
     ]
    }
   ],
   "execution_count": 13
  }
 ],
 "metadata": {
  "kernelspec": {
   "display_name": "Python 3",
   "language": "python",
   "name": "python3"
  },
  "language_info": {
   "codemirror_mode": {
    "name": "ipython",
    "version": 2
   },
   "file_extension": ".py",
   "mimetype": "text/x-python",
   "name": "python",
   "nbconvert_exporter": "python",
   "pygments_lexer": "ipython2",
   "version": "2.7.6"
  }
 },
 "nbformat": 4,
 "nbformat_minor": 5
}
